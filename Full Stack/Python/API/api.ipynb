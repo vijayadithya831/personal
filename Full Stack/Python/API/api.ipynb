{
 "cells": [
  {
   "cell_type": "markdown",
   "metadata": {},
   "source": [
    "# API => Application Programming Interface"
   ]
  },
  {
   "cell_type": "code",
   "execution_count": 2,
   "metadata": {},
   "outputs": [],
   "source": [
    "from requests import *"
   ]
  },
  {
   "cell_type": "code",
   "execution_count": 9,
   "metadata": {},
   "outputs": [],
   "source": [
    "url = get(\"https://www.amazon.in/\")\n",
    "\n",
    "print(url)"
   ]
  },
  {
   "cell_type": "code",
   "execution_count": 5,
   "metadata": {},
   "outputs": [
    {
     "name": "stdout",
     "output_type": "stream",
     "text": [
      "<Response [200]>\n",
      "Burn that excel spread sheet\n"
     ]
    }
   ],
   "source": [
    "url = get(\"https://api.kanye.rest/\")\n",
    "\n",
    "print(url)\n",
    "\n",
    "data = url.json()\n",
    "\n",
    "print(data['quote'])"
   ]
  },
  {
   "cell_type": "code",
   "execution_count": 10,
   "metadata": {},
   "outputs": [
    {
     "name": "stdout",
     "output_type": "stream",
     "text": [
      "<Response [200]>\n",
      "The coordinates of ISS is 19.0232 degree North, 160.3679 degree East\n"
     ]
    }
   ],
   "source": [
    "url = get(\"http://api.open-notify.org/iss-now.json\")\n",
    "\n",
    "print(url)\n",
    "\n",
    "data = url.json()\n",
    "\n",
    "lat = data['iss_position']['latitude']\n",
    "\n",
    "long = data['iss_position']['longitude']\n",
    "\n",
    "print(f\"The coordinates of ISS is {lat} degree North, {long} degree East\")"
   ]
  }
 ],
 "metadata": {
  "kernelspec": {
   "display_name": "Python 3",
   "language": "python",
   "name": "python3"
  },
  "language_info": {
   "codemirror_mode": {
    "name": "ipython",
    "version": 3
   },
   "file_extension": ".py",
   "mimetype": "text/x-python",
   "name": "python",
   "nbconvert_exporter": "python",
   "pygments_lexer": "ipython3",
   "version": "3.11.9"
  }
 },
 "nbformat": 4,
 "nbformat_minor": 2
}
