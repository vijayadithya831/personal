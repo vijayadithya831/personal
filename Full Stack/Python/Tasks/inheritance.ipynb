{
 "cells": [
  {
   "cell_type": "code",
   "execution_count": 2,
   "metadata": {},
   "outputs": [
    {
     "name": "stdout",
     "output_type": "stream",
     "text": [
      "The brand of the car is Toyota\n",
      "The model of the car is Camry\n",
      "The year of manufacturing of the car is 2020\n",
      "\n",
      "The brand of the car is Ford\n",
      "The model of the car is Mustang GT-R\n",
      "The year of manufacturing of the car is 2016\n"
     ]
    }
   ],
   "source": [
    "class Car:\n",
    "    def __init__(this, make, model, year):\n",
    "        this.make = make\n",
    "        this.model = model\n",
    "        this.year = year\n",
    "    def display_info(this):\n",
    "        print(f\"The brand of the car is {this.make}\")\n",
    "        print(f\"The model of the car is {this.model}\")\n",
    "        print(f\"The year of manufacturing of the car is {this.year}\")\n",
    "    \n",
    "car1 = Car(\"Toyota\", \"Camry\", 2020)\n",
    "car1.display_info()\n",
    "print()\n",
    "car2 = Car(\"Ford\", \"Mustang GT-R\", 2016)\n",
    "car2.display_info()"
   ]
  }
 ],
 "metadata": {
  "kernelspec": {
   "display_name": "Python 3",
   "language": "python",
   "name": "python3"
  },
  "language_info": {
   "codemirror_mode": {
    "name": "ipython",
    "version": 3
   },
   "file_extension": ".py",
   "mimetype": "text/x-python",
   "name": "python",
   "nbconvert_exporter": "python",
   "pygments_lexer": "ipython3",
   "version": "3.11.9"
  }
 },
 "nbformat": 4,
 "nbformat_minor": 2
}
