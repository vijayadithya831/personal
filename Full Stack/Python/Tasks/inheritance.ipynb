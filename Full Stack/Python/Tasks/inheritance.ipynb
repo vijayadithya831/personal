{
 "cells": [
  {
   "cell_type": "markdown",
   "metadata": {},
   "source": [
    "Problem statement:\n",
    "Write a Python program to define a class Car that represents a vehicle. The class should have attributes for make, model, and year of the car. Additionally, include a method display_info() within the class to print out the details of the car, including its make, model, and year.\n",
    "\n",
    "After defining the Car class, create an instance of the class named car1 representing a Toyota Camry from the year 2020. Call the display_info() method for the car1 instance to print its details.\n",
    "\n",
    "Write the Python code to implement the Car class with the specified attributes and method. Also, provide the code to create the car1 instance and call the display_info() method."
   ]
  },
  {
   "cell_type": "code",
   "execution_count": 2,
   "metadata": {},
   "outputs": [
    {
     "name": "stdout",
     "output_type": "stream",
     "text": [
      "The brand of the car is Toyota\n",
      "The model of the car is Camry\n",
      "The year of manufacturing of the car is 2020\n",
      "\n",
      "The brand of the car is Ford\n",
      "The model of the car is Mustang GT-R\n",
      "The year of manufacturing of the car is 2016\n"
     ]
    }
   ],
   "source": [
    "class Car:\n",
    "    def __init__(self, make, model, year):\n",
    "        self.make = make\n",
    "        self.model = model\n",
    "        self.year = year\n",
    "    def display_info(self):\n",
    "        print(f\"The brand of the car is {self.make}\")\n",
    "        print(f\"The model of the car is {self.model}\")\n",
    "        print(f\"The year of manufacturing of the car is {self.year}\")\n",
    "    \n",
    "car1 = Car(\"Toyota\", \"Camry\", 2020)\n",
    "car1.display_info()\n",
    "print()\n",
    "car2 = Car(\"Ford\", \"Mustang GT-R\", 2016)\n",
    "car2.display_info()"
   ]
  },
  {
   "cell_type": "markdown",
   "metadata": {},
   "source": [
    "## Single Inheritance"
   ]
  },
  {
   "cell_type": "code",
   "execution_count": 8,
   "metadata": {},
   "outputs": [
    {
     "name": "stdout",
     "output_type": "stream",
     "text": [
      "This is Animals Class\n",
      "This is Animals Class\n",
      "This is Dog Class\n",
      "'Animal' object has no attribute 'displayDog'\n"
     ]
    }
   ],
   "source": [
    "class Animal:\n",
    "    def displayAnimal(self):\n",
    "        print(\"This is Animals Class\")\n",
    "\n",
    "class Dog(Animal):\n",
    "    def displayDog(self):\n",
    "        print(\"This is Dog Class\")\n",
    "\n",
    "ob1 = Dog()\n",
    "ob2 = Animal()\n",
    "try:\n",
    "    ob1.displayAnimal()\n",
    "except Exception as e:\n",
    "    print(e)\n",
    "try:\n",
    "    ob2.displayAnimal()\n",
    "except Exception as e:\n",
    "    print(e)\n",
    "try:\n",
    "    ob1.displayDog()\n",
    "except Exception as e:\n",
    "    print(e)\n",
    "try:\n",
    "    ob2.displayDog()\n",
    "except Exception as e:\n",
    "    print(e)"
   ]
  },
  {
   "cell_type": "markdown",
   "metadata": {},
   "source": [
    "## Multiple Inheritance"
   ]
  },
  {
   "cell_type": "code",
   "execution_count": 9,
   "metadata": {},
   "outputs": [
    {
     "name": "stdout",
     "output_type": "stream",
     "text": [
      "This is Bird Class\n",
      "'Bird' object has no attribute 'displayMammal'\n",
      "'Bird' object has no attribute 'displayBat'\n",
      "'Mammal' object has no attribute 'displayBird'\n",
      "This is Mammal Class\n",
      "'Mammal' object has no attribute 'displayBat'\n",
      "This is Bird Class\n",
      "This is Mammal Class\n",
      "This is Bat Class\n"
     ]
    }
   ],
   "source": [
    "class Bird:\n",
    "    def displayBird(self):\n",
    "        print(\"This is Bird Class\")\n",
    "\n",
    "class Mammal:\n",
    "    def displayMammal(self):\n",
    "        print(\"This is Mammal Class\")\n",
    "\n",
    "class Bat(Bird, Mammal):\n",
    "    def displayBat(self):\n",
    "        print(\"This is Bat Class\")\n",
    "\n",
    "ob1 = Bird()\n",
    "ob2 = Mammal()\n",
    "ob3 = Bat()\n",
    "\n",
    "try:\n",
    "    ob1.displayBird()\n",
    "except Exception as e:\n",
    "    print(e)\n",
    "try:\n",
    "    ob1.displayMammal()\n",
    "except Exception as e:\n",
    "    print(e)\n",
    "try:\n",
    "    ob1.displayBat()\n",
    "except Exception as e:\n",
    "    print(e)\n",
    "try:\n",
    "    ob2.displayBird()\n",
    "except Exception as e:\n",
    "    print(e)\n",
    "try:\n",
    "    ob2.displayMammal()\n",
    "except Exception as e:\n",
    "    print(e)\n",
    "try:\n",
    "    ob2.displayBat()\n",
    "except Exception as e:\n",
    "    print(e)\n",
    "try:\n",
    "    ob3.displayBird()\n",
    "except Exception as e:\n",
    "    print(e)\n",
    "try:\n",
    "    ob3.displayMammal()\n",
    "except Exception as e:\n",
    "    print(e)\n",
    "try:\n",
    "    ob3.displayBat()\n",
    "except Exception as e:\n",
    "    print(e)"
   ]
  },
  {
   "cell_type": "markdown",
   "metadata": {},
   "source": [
    "## Multi-Level Inheritance"
   ]
  },
  {
   "cell_type": "code",
   "execution_count": 10,
   "metadata": {},
   "outputs": [
    {
     "name": "stdout",
     "output_type": "stream",
     "text": [
      "This is Vehicle Class\n",
      "'Vehicle' object has no attribute 'displayCar'\n",
      "'Vehicle' object has no attribute 'displayElectricCar'\n",
      "This is Vehicle Class\n",
      "This is Car Class\n",
      "'Car' object has no attribute 'displayElectricCar'\n",
      "This is Vehicle Class\n",
      "This is Car Class\n",
      "This is Electric Car Class\n"
     ]
    }
   ],
   "source": [
    "class Vehicle:\n",
    "    def displayVehicle(self):\n",
    "        print(\"This is Vehicle Class\")\n",
    "\n",
    "class Car(Vehicle):\n",
    "    def displayCar(self):\n",
    "        print(\"This is Car Class\")\n",
    "\n",
    "class ElectricCar(Car):\n",
    "    def displayElectricCar(self):\n",
    "        print(\"This is Electric Car Class\")\n",
    "\n",
    "ob1 = Vehicle()\n",
    "ob2 = Car()\n",
    "ob3 = ElectricCar()\n",
    "\n",
    "try:\n",
    "    ob1.displayVehicle()\n",
    "except Exception as e:\n",
    "    print(e)\n",
    "try:\n",
    "    ob1.displayCar()\n",
    "except Exception as e:\n",
    "    print(e)\n",
    "try:\n",
    "    ob1.displayElectricCar()\n",
    "except Exception as e:\n",
    "    print(e)\n",
    "try:\n",
    "    ob2.displayVehicle()\n",
    "except Exception as e:\n",
    "    print(e)\n",
    "try:\n",
    "    ob2.displayCar()\n",
    "except Exception as e:\n",
    "    print(e)\n",
    "try:\n",
    "    ob2.displayElectricCar()\n",
    "except Exception as e:\n",
    "    print(e)\n",
    "try:\n",
    "    ob3.displayVehicle()\n",
    "except Exception as e:\n",
    "    print(e)\n",
    "try:\n",
    "    ob3.displayCar()\n",
    "except Exception as e:\n",
    "    print(e)\n",
    "try:\n",
    "    ob3.displayElectricCar()\n",
    "except Exception as e:\n",
    "    print(e)"
   ]
  },
  {
   "cell_type": "markdown",
   "metadata": {},
   "source": [
    "## Hierarchical Inheritance"
   ]
  },
  {
   "cell_type": "code",
   "execution_count": 11,
   "metadata": {},
   "outputs": [
    {
     "name": "stdout",
     "output_type": "stream",
     "text": [
      "This is Shape Class\n",
      "'Shape' object has no attribute 'displayQuadrilateral'\n",
      "'Shape' object has no attribute 'displayCircle'\n",
      "This is Shape Class\n",
      "This is Shape Class\n",
      "'Quadrilateral' object has no attribute 'displayCircle'\n",
      "This is Shape Class\n",
      "'Circle' object has no attribute 'displayQuadrilateral'\n",
      "This is Shape Class\n"
     ]
    }
   ],
   "source": [
    "class Shape:\n",
    "    def displayShape(self):\n",
    "        print(\"This is Shape Class\")\n",
    "\n",
    "class Quadrilateral(Shape):\n",
    "    def displayQuadrilateral(self):\n",
    "        print(\"This is Shape Class\")\n",
    "\n",
    "class Circle(Shape):\n",
    "    def displayCircle(self):\n",
    "        print(\"This is Shape Class\")\n",
    "\n",
    "ob1 = Shape()\n",
    "ob2 = Quadrilateral()\n",
    "ob3 = Circle()\n",
    "\n",
    "try:\n",
    "    ob1.displayShape()\n",
    "except Exception as e:\n",
    "    print(e)\n",
    "try:\n",
    "    ob1.displayQuadrilateral()\n",
    "except Exception as e:\n",
    "    print(e)\n",
    "try:\n",
    "    ob1.displayCircle()\n",
    "except Exception as e:\n",
    "    print(e)\n",
    "try:\n",
    "    ob2.displayShape()\n",
    "except Exception as e:\n",
    "    print(e)\n",
    "try:\n",
    "    ob2.displayQuadrilateral()\n",
    "except Exception as e:\n",
    "    print(e)\n",
    "try:\n",
    "    ob2.displayCircle()\n",
    "except Exception as e:\n",
    "    print(e)\n",
    "try:\n",
    "    ob3.displayShape()\n",
    "except Exception as e:\n",
    "    print(e)\n",
    "try:\n",
    "    ob3.displayQuadrilateral()\n",
    "except Exception as e:\n",
    "    print(e)\n",
    "try:\n",
    "    ob3.displayCircle()\n",
    "except Exception as e:\n",
    "    print(e)"
   ]
  },
  {
   "cell_type": "code",
   "execution_count": 15,
   "metadata": {},
   "outputs": [
    {
     "name": "stdout",
     "output_type": "stream",
     "text": [
      "This is Vehicle Class\n",
      "This is Vehicle Class\n",
      "This is Car Class\n",
      "This is Bicycle Method\n",
      "This is Electric Device Class\n",
      "This is Vehicle Class\n",
      "This is Car Class\n",
      "This is Electric Device Class\n",
      "This is Electric Car Class\n",
      "This is Vehicle Class\n",
      "This is Bicycle Method\n",
      "This is Electric Device Class\n",
      "This is Electric Car Class\n"
     ]
    }
   ],
   "source": [
    "class Vehicle:\n",
    "    def displayVehicle(self):\n",
    "        print(\"This is Vehicle Class\")\n",
    "\n",
    "class Car(Vehicle):\n",
    "    def displayCar(self):\n",
    "        print(\"This is Car Class\")\n",
    "\n",
    "class Bicycle(Vehicle):\n",
    "    def displayBicycle(self):\n",
    "        print(\"This is Bicycle Method\")\n",
    "\n",
    "class ElectricDevice:\n",
    "    def displayElectricDevice(self):\n",
    "        print(\"This is Electric Device Class\")\n",
    "\n",
    "class ElectricCar(Car, ElectricDevice):\n",
    "    def displayElectricCar(self):\n",
    "        print(\"This is Electric Car Class\")\n",
    "\n",
    "class ElectricBicycle(Bicycle, ElectricDevice):\n",
    "    def displayElectricBicycle(self):\n",
    "        print(\"This is Electric Car Class\")\n",
    "\n",
    "ob1 = Vehicle()\n",
    "ob2 = Car()\n",
    "ob3 = Bicycle()\n",
    "ob4 = ElectricDevice()\n",
    "ob5 = ElectricCar()\n",
    "ob6 = ElectricBicycle()\n",
    "\n",
    "ob1.displayVehicle()\n",
    "ob2.displayVehicle()\n",
    "ob2.displayCar()\n",
    "ob3.displayVehicle\n",
    "ob3.displayBicycle()\n",
    "ob4.displayElectricDevice()\n",
    "ob5.displayVehicle()\n",
    "ob5.displayCar()\n",
    "ob5.displayElectricDevice()\n",
    "ob5.displayElectricCar()\n",
    "ob6.displayVehicle()\n",
    "ob6.displayBicycle()\n",
    "ob6.displayElectricDevice()\n",
    "ob6.displayElectricBicycle()"
   ]
  }
 ],
 "metadata": {
  "kernelspec": {
   "display_name": "Python 3",
   "language": "python",
   "name": "python3"
  },
  "language_info": {
   "codemirror_mode": {
    "name": "ipython",
    "version": 3
   },
   "file_extension": ".py",
   "mimetype": "text/x-python",
   "name": "python",
   "nbconvert_exporter": "python",
   "pygments_lexer": "ipython3",
   "version": "3.11.9"
  }
 },
 "nbformat": 4,
 "nbformat_minor": 2
}
