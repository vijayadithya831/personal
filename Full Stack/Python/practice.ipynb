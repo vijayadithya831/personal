{
 "cells": [
  {
   "cell_type": "code",
   "execution_count": 3,
   "metadata": {},
   "outputs": [
    {
     "name": "stdout",
     "output_type": "stream",
     "text": [
      "1 \n",
      "2 3 \n",
      "4 5 6 \n",
      "7 8 9 10 \n"
     ]
    }
   ],
   "source": [
    "n = int(input(\"Enter a number: \"))\n",
    "count = 1\n",
    "for i in range(n):\n",
    "    for j in range(i+1):\n",
    "        print(count, end = ' ')\n",
    "        count += 1\n",
    "    print()"
   ]
  },
  {
   "cell_type": "code",
   "execution_count": 4,
   "metadata": {},
   "outputs": [
    {
     "name": "stdout",
     "output_type": "stream",
     "text": [
      "1 \n",
      "2 4 \n",
      "3 5 7 \n",
      "6 8 10 12 \n",
      "9 11 13 15 17 \n"
     ]
    }
   ],
   "source": [
    "n = int(input(\"Enter a number: \"))\n",
    "odd = 1\n",
    "even = 2\n",
    "\n",
    "for i in range(n):\n",
    "    for j in range(i+1):\n",
    "        if i%2 == 0:\n",
    "            print(odd, end = ' ')\n",
    "            odd += 2\n",
    "        else:\n",
    "            print(even, end = ' ')\n",
    "            even += 2\n",
    "    print()"
   ]
  },
  {
   "cell_type": "code",
   "execution_count": 3,
   "metadata": {},
   "outputs": [
    {
     "name": "stdout",
     "output_type": "stream",
     "text": [
      "  1 \n",
      " 1 1 \n",
      "1 1 1 \n",
      " 1 1 \n",
      "  1 \n"
     ]
    }
   ],
   "source": [
    "n = int(input(\"Enter a number: \"))\n",
    "count = 1\n",
    "\n",
    "for i in range(1,2*n):\n",
    "    totalCol = 2*n-i if i > n else i\n",
    "    totalSpc = n - totalCol\n",
    "    for k in range(totalSpc):\n",
    "        print(' ', end = '')\n",
    "    for j in range(totalCol):\n",
    "        print(count, end = ' ')\n",
    "    print()"
   ]
  },
  {
   "cell_type": "code",
   "execution_count": 15,
   "metadata": {},
   "outputs": [
    {
     "name": "stdout",
     "output_type": "stream",
     "text": [
      "* * 1 * *  \n",
      "* 2 2 2 *  \n",
      "3 3 3 3 3  \n",
      "* 4 4 4 *  \n",
      "* * 5 * *  \n"
     ]
    }
   ],
   "source": [
    "n=int(input())\n",
    "row=n+n-1\n",
    "col=n+n-1\n",
    "count=1\n",
    "\n",
    "for i in range(1,row+1):\n",
    "    if(i<=n):\n",
    "        fsp=n-i\n",
    "        ssp=n-i\n",
    "    else:\n",
    "        fsp=i-n\n",
    "        ssp=i-n\n",
    "    nu=col-fsp-ssp\n",
    "    for j in range(1,col+1):\n",
    "        if(fsp>0):\n",
    "            print(\"* \",end=\"\")\n",
    "            fsp=fsp-1\n",
    "        elif(nu>0):\n",
    "            print(i,end=\" \")\n",
    "            # count=count+1\n",
    "            nu=nu-1\n",
    "        else:\n",
    "            print(\"* \",end=\"\")\n",
    "            ssp=ssp-1\n",
    "    print(\" \")\n"
   ]
  },
  {
   "cell_type": "code",
   "execution_count": 18,
   "metadata": {},
   "outputs": [
    {
     "name": "stdout",
     "output_type": "stream",
     "text": [
      "[1, 2, 3, 4, 5]\n"
     ]
    }
   ],
   "source": [
    "n = int(input(\"Enter a number: \"))\n",
    "res = []\n",
    "\n",
    "num = n\n",
    "\n",
    "while(num>0):\n",
    "    res.insert(0, num%10)\n",
    "    num //= 10\n",
    "\n",
    "print(res)"
   ]
  },
  {
   "cell_type": "code",
   "execution_count": 1,
   "metadata": {},
   "outputs": [
    {
     "name": "stdout",
     "output_type": "stream",
     "text": [
      "['geeks', 'for', 'geeks']\n",
      "['geeks', 'for']\n"
     ]
    }
   ],
   "source": [
    "mylist = [\"geeks\", \"for\", \"geeks\"]\n",
    "word = \"geeks\"\n",
    "n=2\n",
    "\n",
    "count=0\n",
    "print(mylist)\n",
    "for i in range(0, len(mylist)):\n",
    "    if(mylist[i]==word):\n",
    "        count+=1\n",
    "        if count == n:\n",
    "            del mylist[i]\n",
    "print(mylist)"
   ]
  },
  {
   "cell_type": "code",
   "execution_count": 6,
   "metadata": {},
   "outputs": [
    {
     "name": "stdout",
     "output_type": "stream",
     "text": [
      "aJav1\n"
     ]
    }
   ],
   "source": [
    "var = input()\n",
    "a = list(var)\n",
    "\n",
    "size = len(a)\n",
    "\n",
    "for i in range(1,size,2):\n",
    "    a[i-1],a[i] = a[i],a[i-1]\n",
    "var2 = ''.join(a)\n",
    "print(var2)"
   ]
  }
 ],
 "metadata": {
  "kernelspec": {
   "display_name": "Python 3",
   "language": "python",
   "name": "python3"
  },
  "language_info": {
   "codemirror_mode": {
    "name": "ipython",
    "version": 3
   },
   "file_extension": ".py",
   "mimetype": "text/x-python",
   "name": "python",
   "nbconvert_exporter": "python",
   "pygments_lexer": "ipython3",
   "version": "3.11.9"
  }
 },
 "nbformat": 4,
 "nbformat_minor": 2
}
