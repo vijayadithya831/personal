{
 "cells": [
  {
   "cell_type": "code",
   "execution_count": 3,
   "metadata": {},
   "outputs": [
    {
     "name": "stdout",
     "output_type": "stream",
     "text": [
      "1 \n",
      "2 3 \n",
      "4 5 6 \n",
      "7 8 9 10 \n"
     ]
    }
   ],
   "source": [
    "n = int(input(\"Enter a number: \"))\n",
    "count = 1\n",
    "for i in range(n):\n",
    "    for j in range(i+1):\n",
    "        print(count, end = ' ')\n",
    "        count += 1\n",
    "    print()"
   ]
  },
  {
   "cell_type": "code",
   "execution_count": 4,
   "metadata": {},
   "outputs": [
    {
     "name": "stdout",
     "output_type": "stream",
     "text": [
      "1 \n",
      "2 4 \n",
      "3 5 7 \n",
      "6 8 10 12 \n",
      "9 11 13 15 17 \n"
     ]
    }
   ],
   "source": [
    "n = int(input(\"Enter a number: \"))\n",
    "odd = 1\n",
    "even = 2\n",
    "\n",
    "for i in range(n):\n",
    "    for j in range(i+1):\n",
    "        if i%2 == 0:\n",
    "            print(odd, end = ' ')\n",
    "            odd += 2\n",
    "        else:\n",
    "            print(even, end = ' ')\n",
    "            even += 2\n",
    "    print()"
   ]
  },
  {
   "cell_type": "code",
   "execution_count": 17,
   "metadata": {},
   "outputs": [
    {
     "name": "stdout",
     "output_type": "stream",
     "text": [
      "   \n",
      "  1 \n",
      " 1 1 \n",
      "1 1 1 \n",
      " 1 1 \n",
      "  1 \n"
     ]
    }
   ],
   "source": [
    "n = int(input(\"Enter a number: \"))\n",
    "count = 1\n",
    "\n",
    "for i in range(2*n):\n",
    "    totalCol = 2*n-i if i > n else i\n",
    "    totalSpc = n - totalCol\n",
    "    for k in range(totalSpc):\n",
    "        print(' ', end = '')\n",
    "    for j in range(totalCol):\n",
    "        print(count, end = ' ')\n",
    "    print()"
   ]
  }
 ],
 "metadata": {
  "kernelspec": {
   "display_name": "Python 3",
   "language": "python",
   "name": "python3"
  },
  "language_info": {
   "codemirror_mode": {
    "name": "ipython",
    "version": 3
   },
   "file_extension": ".py",
   "mimetype": "text/x-python",
   "name": "python",
   "nbconvert_exporter": "python",
   "pygments_lexer": "ipython3",
   "version": "3.11.9"
  }
 },
 "nbformat": 4,
 "nbformat_minor": 2
}
