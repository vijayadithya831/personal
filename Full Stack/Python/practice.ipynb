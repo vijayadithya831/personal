{
 "cells": [
  {
   "cell_type": "code",
   "execution_count": 3,
   "metadata": {},
   "outputs": [
    {
     "name": "stdout",
     "output_type": "stream",
     "text": [
      "1 \n",
      "2 3 \n",
      "4 5 6 \n",
      "7 8 9 10 \n"
     ]
    }
   ],
   "source": [
    "n = int(input(\"Enter a number: \"))\n",
    "count = 1\n",
    "for i in range(n):\n",
    "    for j in range(i+1):\n",
    "        print(count, end = ' ')\n",
    "        count += 1\n",
    "    print()"
   ]
  },
  {
   "cell_type": "code",
   "execution_count": 4,
   "metadata": {},
   "outputs": [
    {
     "name": "stdout",
     "output_type": "stream",
     "text": [
      "1 \n",
      "2 4 \n",
      "3 5 7 \n",
      "6 8 10 12 \n",
      "9 11 13 15 17 \n"
     ]
    }
   ],
   "source": [
    "n = int(input(\"Enter a number: \"))\n",
    "odd = 1\n",
    "even = 2\n",
    "\n",
    "for i in range(n):\n",
    "    for j in range(i+1):\n",
    "        if i%2 == 0:\n",
    "            print(odd, end = ' ')\n",
    "            odd += 2\n",
    "        else:\n",
    "            print(even, end = ' ')\n",
    "            even += 2\n",
    "    print()"
   ]
  },
  {
   "cell_type": "code",
   "execution_count": 3,
   "metadata": {},
   "outputs": [
    {
     "name": "stdout",
     "output_type": "stream",
     "text": [
      "  1 \n",
      " 1 1 \n",
      "1 1 1 \n",
      " 1 1 \n",
      "  1 \n"
     ]
    }
   ],
   "source": [
    "n = int(input(\"Enter a number: \"))\n",
    "count = 1\n",
    "\n",
    "for i in range(1,2*n):\n",
    "    totalCol = 2*n-i if i > n else i\n",
    "    totalSpc = n - totalCol\n",
    "    for k in range(totalSpc):\n",
    "        print(' ', end = '')\n",
    "    for j in range(totalCol):\n",
    "        print(count, end = ' ')\n",
    "    print()"
   ]
  },
  {
   "cell_type": "code",
   "execution_count": 15,
   "metadata": {},
   "outputs": [
    {
     "name": "stdout",
     "output_type": "stream",
     "text": [
      "* * 1 * *  \n",
      "* 2 2 2 *  \n",
      "3 3 3 3 3  \n",
      "* 4 4 4 *  \n",
      "* * 5 * *  \n"
     ]
    }
   ],
   "source": [
    "n=int(input())\n",
    "row=n+n-1\n",
    "col=n+n-1\n",
    "count=1\n",
    "\n",
    "for i in range(1,row+1):\n",
    "    if(i<=n):\n",
    "        fsp=n-i\n",
    "        ssp=n-i\n",
    "    else:\n",
    "        fsp=i-n\n",
    "        ssp=i-n\n",
    "    nu=col-fsp-ssp\n",
    "    for j in range(1,col+1):\n",
    "        if(fsp>0):\n",
    "            print(\"* \",end=\"\")\n",
    "            fsp=fsp-1\n",
    "        elif(nu>0):\n",
    "            print(i,end=\" \")\n",
    "            # count=count+1\n",
    "            nu=nu-1\n",
    "        else:\n",
    "            print(\"* \",end=\"\")\n",
    "            ssp=ssp-1\n",
    "    print(\" \")\n"
   ]
  },
  {
   "cell_type": "code",
   "execution_count": 18,
   "metadata": {},
   "outputs": [
    {
     "name": "stdout",
     "output_type": "stream",
     "text": [
      "[1, 2, 3, 4, 5]\n"
     ]
    }
   ],
   "source": [
    "n = int(input(\"Enter a number: \"))\n",
    "res = []\n",
    "\n",
    "num = n\n",
    "\n",
    "while(num>0):\n",
    "    res.insert(0, num%10)\n",
    "    num //= 10\n",
    "\n",
    "print(res)"
   ]
  },
  {
   "cell_type": "code",
   "execution_count": 1,
   "metadata": {},
   "outputs": [
    {
     "name": "stdout",
     "output_type": "stream",
     "text": [
      "['geeks', 'for', 'geeks']\n",
      "['geeks', 'for']\n"
     ]
    }
   ],
   "source": [
    "mylist = [\"geeks\", \"for\", \"geeks\"]\n",
    "word = \"geeks\"\n",
    "n=2\n",
    "\n",
    "count=0\n",
    "print(mylist)\n",
    "for i in range(0, len(mylist)):\n",
    "    if(mylist[i]==word):\n",
    "        count+=1\n",
    "        if count == n:\n",
    "            del mylist[i]\n",
    "print(mylist)"
   ]
  },
  {
   "cell_type": "code",
   "execution_count": 6,
   "metadata": {},
   "outputs": [
    {
     "name": "stdout",
     "output_type": "stream",
     "text": [
      "aJav1\n"
     ]
    }
   ],
   "source": [
    "var = input()\n",
    "a = list(var)\n",
    "\n",
    "size = len(a)\n",
    "\n",
    "for i in range(1,size,2):\n",
    "    a[i-1],a[i] = a[i],a[i-1]\n",
    "var2 = ''.join(a)\n",
    "print(var2)"
   ]
  },
  {
   "cell_type": "code",
   "execution_count": 2,
   "metadata": {},
   "outputs": [
    {
     "name": "stdout",
     "output_type": "stream",
     "text": [
      "1 . I am sorry\n",
      "2 . I am sorry\n",
      "3 . I am sorry\n",
      "4 . I am sorry\n",
      "5 . I am sorry\n",
      "6 . I am sorry\n",
      "7 . I am sorry\n",
      "8 . I am sorry\n",
      "9 . I am sorry\n",
      "10 . I am sorry\n",
      "11 . I am sorry\n",
      "12 . I am sorry\n",
      "13 . I am sorry\n",
      "14 . I am sorry\n",
      "15 . I am sorry\n",
      "16 . I am sorry\n",
      "17 . I am sorry\n",
      "18 . I am sorry\n",
      "19 . I am sorry\n",
      "20 . I am sorry\n",
      "21 . I am sorry\n",
      "22 . I am sorry\n",
      "23 . I am sorry\n",
      "24 . I am sorry\n",
      "25 . I am sorry\n",
      "26 . I am sorry\n",
      "27 . I am sorry\n",
      "28 . I am sorry\n",
      "29 . I am sorry\n",
      "30 . I am sorry\n",
      "31 . I am sorry\n",
      "32 . I am sorry\n",
      "33 . I am sorry\n",
      "34 . I am sorry\n",
      "35 . I am sorry\n",
      "36 . I am sorry\n",
      "37 . I am sorry\n",
      "38 . I am sorry\n",
      "39 . I am sorry\n",
      "40 . I am sorry\n",
      "41 . I am sorry\n",
      "42 . I am sorry\n",
      "43 . I am sorry\n",
      "44 . I am sorry\n",
      "45 . I am sorry\n",
      "46 . I am sorry\n",
      "47 . I am sorry\n",
      "48 . I am sorry\n",
      "49 . I am sorry\n",
      "50 . I am sorry\n",
      "51 . I am sorry\n",
      "52 . I am sorry\n",
      "53 . I am sorry\n",
      "54 . I am sorry\n",
      "55 . I am sorry\n",
      "56 . I am sorry\n",
      "57 . I am sorry\n",
      "58 . I am sorry\n",
      "59 . I am sorry\n",
      "60 . I am sorry\n",
      "61 . I am sorry\n",
      "62 . I am sorry\n",
      "63 . I am sorry\n",
      "64 . I am sorry\n",
      "65 . I am sorry\n",
      "66 . I am sorry\n",
      "67 . I am sorry\n",
      "68 . I am sorry\n",
      "69 . I am sorry\n",
      "70 . I am sorry\n",
      "71 . I am sorry\n",
      "72 . I am sorry\n",
      "73 . I am sorry\n",
      "74 . I am sorry\n",
      "75 . I am sorry\n",
      "76 . I am sorry\n",
      "77 . I am sorry\n",
      "78 . I am sorry\n",
      "79 . I am sorry\n",
      "80 . I am sorry\n",
      "81 . I am sorry\n",
      "82 . I am sorry\n",
      "83 . I am sorry\n",
      "84 . I am sorry\n",
      "85 . I am sorry\n",
      "86 . I am sorry\n",
      "87 . I am sorry\n",
      "88 . I am sorry\n",
      "89 . I am sorry\n",
      "90 . I am sorry\n",
      "91 . I am sorry\n",
      "92 . I am sorry\n",
      "93 . I am sorry\n",
      "94 . I am sorry\n",
      "95 . I am sorry\n",
      "96 . I am sorry\n",
      "97 . I am sorry\n",
      "98 . I am sorry\n",
      "99 . I am sorry\n",
      "100 . I am sorry\n"
     ]
    }
   ],
   "source": [
    "for i in range(1,101):\n",
    "    print(i,'. I am sorry')"
   ]
  }
 ],
 "metadata": {
  "kernelspec": {
   "display_name": "Python 3",
   "language": "python",
   "name": "python3"
  },
  "language_info": {
   "codemirror_mode": {
    "name": "ipython",
    "version": 3
   },
   "file_extension": ".py",
   "mimetype": "text/x-python",
   "name": "python",
   "nbconvert_exporter": "python",
   "pygments_lexer": "ipython3",
   "version": "3.11.9"
  }
 },
 "nbformat": 4,
 "nbformat_minor": 2
}
