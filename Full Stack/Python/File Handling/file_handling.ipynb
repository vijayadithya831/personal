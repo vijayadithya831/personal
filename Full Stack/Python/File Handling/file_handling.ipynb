{
 "cells": [
  {
   "cell_type": "markdown",
   "metadata": {},
   "source": [
    "# file handling\n",
    "\n",
    "1. read (r)\n",
    "2. write (w)\n",
    "3. append (a)\n",
    "4. create (x)"
   ]
  },
  {
   "cell_type": "code",
   "execution_count": 2,
   "metadata": {},
   "outputs": [
    {
     "name": "stdout",
     "output_type": "stream",
     "text": [
      "Hello! Welcome to python file\n",
      "this file is for texting purposes\n",
      "good luck!\n"
     ]
    }
   ],
   "source": [
    "f = open(\"demofile.txt\")\n",
    "print(f.read())\n",
    "f.close()"
   ]
  },
  {
   "cell_type": "code",
   "execution_count": 4,
   "metadata": {},
   "outputs": [
    {
     "name": "stdout",
     "output_type": "stream",
     "text": [
      "123\n",
      "132\n",
      "213\n",
      "231\n",
      "312\n",
      "321\n",
      "\n",
      "1 - largest\n",
      "2 - mid\n",
      "3 - smallest\n",
      "\n",
      "use this permutations to do the nested if num compare problem\n",
      "\n"
     ]
    }
   ],
   "source": [
    "c = open(\"D:\\Personal\\Full Stack\\Python\\Tasks\\\\nested if reference text.txt\")\n",
    "print(c.read())\n",
    "c.close()"
   ]
  },
  {
   "cell_type": "markdown",
   "metadata": {},
   "source": [
    "creating new file"
   ]
  },
  {
   "cell_type": "code",
   "execution_count": 17,
   "metadata": {},
   "outputs": [],
   "source": [
    "f = open(\"myFile.txt\", \"w\")\n",
    "f = f.write(\"Hello gays\")"
   ]
  },
  {
   "cell_type": "code",
   "execution_count": 22,
   "metadata": {},
   "outputs": [
    {
     "name": "stdout",
     "output_type": "stream",
     "text": [
      "Hello gays\n",
      "This file has more lines of gays\n"
     ]
    }
   ],
   "source": [
    "c = open(\"myFile.txt\", \"r\")\n",
    "print(c.read())\n",
    "c.close()"
   ]
  },
  {
   "cell_type": "code",
   "execution_count": 21,
   "metadata": {},
   "outputs": [],
   "source": [
    "b = open(\"myFile.txt\", \"a\")\n",
    "b = b.write(\"\\nThis file has more lines of gays\")"
   ]
  },
  {
   "cell_type": "code",
   "execution_count": 23,
   "metadata": {},
   "outputs": [
    {
     "name": "stdout",
     "output_type": "stream",
     "text": [
      "Hello gays\n",
      "This file has more lines of gays\n"
     ]
    }
   ],
   "source": [
    "c = open(\"myFile.txt\", \"r\")\n",
    "print(c.read())\n",
    "c.close()"
   ]
  }
 ],
 "metadata": {
  "kernelspec": {
   "display_name": "Python 3",
   "language": "python",
   "name": "python3"
  },
  "language_info": {
   "codemirror_mode": {
    "name": "ipython",
    "version": 3
   },
   "file_extension": ".py",
   "mimetype": "text/x-python",
   "name": "python",
   "nbconvert_exporter": "python",
   "pygments_lexer": "ipython3",
   "version": "3.11.8"
  }
 },
 "nbformat": 4,
 "nbformat_minor": 2
}
