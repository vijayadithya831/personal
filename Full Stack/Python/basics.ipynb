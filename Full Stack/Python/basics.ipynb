{
 "cells": [
  {
   "cell_type": "markdown",
   "metadata": {},
   "source": [
    "### Basics"
   ]
  },
  {
   "cell_type": "code",
   "execution_count": 1,
   "metadata": {},
   "outputs": [
    {
     "name": "stdout",
     "output_type": "stream",
     "text": [
      "hello\n"
     ]
    }
   ],
   "source": [
    "print(\"hello\")"
   ]
  },
  {
   "cell_type": "code",
   "execution_count": 6,
   "metadata": {},
   "outputs": [
    {
     "name": "stdout",
     "output_type": "stream",
     "text": [
      "16\n"
     ]
    }
   ],
   "source": [
    "a = \"Besant\"\n",
    "print(len(a))"
   ]
  },
  {
   "cell_type": "code",
   "execution_count": 4,
   "metadata": {},
   "outputs": [],
   "source": [
    "import math"
   ]
  },
  {
   "cell_type": "code",
   "execution_count": 6,
   "metadata": {},
   "outputs": [
    {
     "data": {
      "text/plain": [
       "2.0"
      ]
     },
     "execution_count": 6,
     "metadata": {},
     "output_type": "execute_result"
    }
   ],
   "source": [
    "math.sqrt(4)"
   ]
  },
  {
   "cell_type": "code",
   "execution_count": 19,
   "metadata": {},
   "outputs": [
    {
     "name": "stdout",
     "output_type": "stream",
     "text": [
      "<class 'complex'>\n"
     ]
    }
   ],
   "source": [
    "a = 10 + 12j\n",
    "print(type(a))"
   ]
  },
  {
   "cell_type": "code",
   "execution_count": 1,
   "metadata": {},
   "outputs": [
    {
     "name": "stdout",
     "output_type": "stream",
     "text": [
      "<class 'str'>\n"
     ]
    }
   ],
   "source": [
    "a='a'\n",
    "print(type(a))"
   ]
  },
  {
   "cell_type": "markdown",
   "metadata": {},
   "source": [
    "### Input and Output"
   ]
  },
  {
   "cell_type": "markdown",
   "metadata": {},
   "source": [
    "### Type Casting"
   ]
  },
  {
   "cell_type": "code",
   "execution_count": 2,
   "metadata": {},
   "outputs": [
    {
     "name": "stdout",
     "output_type": "stream",
     "text": [
      "30\n"
     ]
    }
   ],
   "source": [
    "a = 10\n",
    "b = 20\n",
    "c = a + b\n",
    "print(c)"
   ]
  },
  {
   "cell_type": "code",
   "execution_count": 4,
   "metadata": {},
   "outputs": [
    {
     "name": "stdout",
     "output_type": "stream",
     "text": [
      "10\n"
     ]
    }
   ],
   "source": [
    "a = 10.98\n",
    "print(int(a))"
   ]
  },
  {
   "cell_type": "code",
   "execution_count": 6,
   "metadata": {},
   "outputs": [
    {
     "name": "stdout",
     "output_type": "stream",
     "text": [
      "(12+3j)\n"
     ]
    }
   ],
   "source": [
    "a = 12 + 3j\n",
    "print(str(a))"
   ]
  },
  {
   "cell_type": "code",
   "execution_count": 8,
   "metadata": {},
   "outputs": [
    {
     "ename": "ValueError",
     "evalue": "invalid literal for int() with base 10: 'abc'",
     "output_type": "error",
     "traceback": [
      "\u001b[1;31m---------------------------------------------------------------------------\u001b[0m",
      "\u001b[1;31mValueError\u001b[0m                                Traceback (most recent call last)",
      "Cell \u001b[1;32mIn[8], line 2\u001b[0m\n\u001b[0;32m      1\u001b[0m a \u001b[38;5;241m=\u001b[39m \u001b[38;5;124m'\u001b[39m\u001b[38;5;124mabc\u001b[39m\u001b[38;5;124m'\u001b[39m\n\u001b[1;32m----> 2\u001b[0m \u001b[38;5;28mprint\u001b[39m(\u001b[38;5;28;43mint\u001b[39;49m\u001b[43m(\u001b[49m\u001b[43ma\u001b[49m\u001b[43m)\u001b[49m)\n",
      "\u001b[1;31mValueError\u001b[0m: invalid literal for int() with base 10: 'abc'"
     ]
    }
   ],
   "source": [
    "a = 'abc'\n",
    "print(int(a))"
   ]
  },
  {
   "cell_type": "markdown",
   "metadata": {},
   "source": [
    "### Formatted text"
   ]
  },
  {
   "cell_type": "code",
   "execution_count": 11,
   "metadata": {},
   "outputs": [
    {
     "name": "stdout",
     "output_type": "stream",
     "text": [
      "the sum of 20 and 30 is 50\n"
     ]
    }
   ],
   "source": [
    "a = 20\n",
    "b = 3\n",
    "c = a + b\n",
    "print(f\"the sum of {a} and {b} is {c}\")"
   ]
  },
  {
   "cell_type": "code",
   "execution_count": 2,
   "metadata": {},
   "outputs": [
    {
     "name": "stdout",
     "output_type": "stream",
     "text": [
      "10\n",
      "3\n",
      "13\n",
      "7\n",
      "30\n",
      "3.3333333333333335\n",
      "1000\n",
      "3\n",
      "1\n"
     ]
    }
   ],
   "source": [
    "a = 10\n",
    "b = 3\n",
    "print(a)\n",
    "print(b)\n",
    "print(a+b)\n",
    "print(a-b)\n",
    "print(a*b)\n",
    "print(a/b) # gives quotient with decimal places\n",
    "print(a**b) # a^b\n",
    "print(a//b) # gives quotient without decimal places\n",
    "print(a%b) # returns reminder"
   ]
  },
  {
   "cell_type": "markdown",
   "metadata": {},
   "source": [
    "### Relational operators"
   ]
  },
  {
   "cell_type": "code",
   "execution_count": 9,
   "metadata": {},
   "outputs": [
    {
     "name": "stdout",
     "output_type": "stream",
     "text": [
      "False\n",
      "True\n",
      "False\n",
      "True\n",
      "False\n",
      "True\n"
     ]
    }
   ],
   "source": [
    "a = 10\n",
    "b = 12\n",
    "print(a>=b)\n",
    "print(a<=b)\n",
    "print(a>b)\n",
    "print(a<b)\n",
    "print(a==b)\n",
    "print(a!=b)"
   ]
  },
  {
   "cell_type": "markdown",
   "metadata": {},
   "source": [
    "### Assignment operator and arithmetic shorthands"
   ]
  },
  {
   "cell_type": "code",
   "execution_count": 1,
   "metadata": {},
   "outputs": [
    {
     "name": "stdout",
     "output_type": "stream",
     "text": [
      "100\n",
      "88\n",
      "108\n",
      "12\n",
      "36\n"
     ]
    }
   ],
   "source": [
    "a = 100\n",
    "print(a)\n",
    "a -= 12\n",
    "print(a)\n",
    "a += 20\n",
    "print(a)\n",
    "a /= 9\n",
    "print(int(a))\n",
    "a *= 3\n",
    "print(int(a))"
   ]
  },
  {
   "cell_type": "markdown",
   "metadata": {},
   "source": [
    "### Logical/Boolean operators (and, or, not)"
   ]
  },
  {
   "cell_type": "code",
   "execution_count": 4,
   "metadata": {},
   "outputs": [
    {
     "name": "stdout",
     "output_type": "stream",
     "text": [
      "True\n",
      "True\n",
      "False\n",
      "True\n"
     ]
    }
   ],
   "source": [
    "a = 10\n",
    "b = 8\n",
    "\n",
    "print((a!=b)or(b<=a))\n",
    "print((a!=b)and(b<=a))\n",
    "print((a==b)and(b<=a))\n",
    "print((a==b)or(b<=a))"
   ]
  },
  {
   "cell_type": "code",
   "execution_count": 6,
   "metadata": {},
   "outputs": [
    {
     "name": "stdout",
     "output_type": "stream",
     "text": [
      "True\n"
     ]
    }
   ],
   "source": [
    "print(not(True and False))"
   ]
  },
  {
   "cell_type": "markdown",
   "metadata": {},
   "source": [
    "### Membership Operator (in, not in) --> returns boolean output"
   ]
  },
  {
   "cell_type": "code",
   "execution_count": 8,
   "metadata": {},
   "outputs": [
    {
     "name": "stdout",
     "output_type": "stream",
     "text": [
      "True\n",
      "False\n",
      "False\n"
     ]
    }
   ],
   "source": [
    "f = 'Hello Everyone'\n",
    "print('e' in f)\n",
    "print('e' not in f)\n",
    "print('h' in f) # returns false coz it compares ascii values"
   ]
  },
  {
   "cell_type": "markdown",
   "metadata": {},
   "source": [
    "### Identity operator (is, is not) --> returns boolean output"
   ]
  },
  {
   "cell_type": "code",
   "execution_count": 11,
   "metadata": {},
   "outputs": [
    {
     "name": "stdout",
     "output_type": "stream",
     "text": [
      "140732801373256\n",
      "140732801373256\n",
      "True\n",
      "False\n"
     ]
    }
   ],
   "source": [
    "a = 10\n",
    "b = 10\n",
    "print(id(a))\n",
    "print(id(b))\n",
    "print(a is b)\n",
    "print(a is not b)"
   ]
  },
  {
   "cell_type": "code",
   "execution_count": 15,
   "metadata": {},
   "outputs": [
    {
     "name": "stdout",
     "output_type": "stream",
     "text": [
      "2074004995200\n",
      "2074005221376\n",
      "False\n",
      "True\n"
     ]
    }
   ],
   "source": [
    "x = [1,2,3,4,5]\n",
    "y = [1,2,3,4,5]\n",
    "print(id(x))\n",
    "print(id(y))\n",
    "print(x is y)\n",
    "print(x == y)"
   ]
  },
  {
   "cell_type": "markdown",
   "metadata": {},
   "source": [
    "# Conditional statement"
   ]
  },
  {
   "cell_type": "markdown",
   "metadata": {},
   "source": [
    "if and elif"
   ]
  },
  {
   "cell_type": "code",
   "execution_count": 20,
   "metadata": {},
   "outputs": [
    {
     "name": "stdout",
     "output_type": "stream",
     "text": [
      "Buy Poori\n"
     ]
    }
   ],
   "source": [
    "available_dishes = ['Chapathi', 'Poori', 'Rice', 'Dosa']\n",
    "if 'chapathi' in available_dishes:\n",
    "    print(\"Buy Chapathi\")\n",
    "elif 'Poori' in available_dishes:\n",
    "    print(\"Buy Poori\")\n",
    "else:\n",
    "    print(available_dishes)\n",
    "    dish = input(\"Enter what you want: \")\n",
    "    if dish in available_dishes:\n",
    "        print(f\"Buy {dish}\")"
   ]
  },
  {
   "cell_type": "code",
   "execution_count": 22,
   "metadata": {},
   "outputs": [
    {
     "name": "stdout",
     "output_type": "stream",
     "text": [
      "Buy Anything\n"
     ]
    }
   ],
   "source": [
    "available_dishes = ['Chapathi', 'Poori', 'Rice', 'Dosa']\n",
    "if 'Chapathi' in available_dishes:\n",
    "    print(\"Buy Chapathi\")\n",
    "elif 'Poori' in available_dishes:\n",
    "    print(\"Buy Poori\")\n",
    "else:\n",
    "    print(\"Buy Anything\")"
   ]
  },
  {
   "cell_type": "code",
   "execution_count": 24,
   "metadata": {},
   "outputs": [
    {
     "name": "stdout",
     "output_type": "stream",
     "text": [
      "12 and 12 are equal\n"
     ]
    }
   ],
   "source": [
    "num1 = int(input(\"Enter the value for num1: \"))\n",
    "num2 = int(input(\"Enter the value for num2: \"))\n",
    "\n",
    "if num1 > num2:\n",
    "    print(f\"{num1} is greater than {num2}\")\n",
    "elif num2 > num1:\n",
    "    print(f\"{num2} is greater than {num1}\")\n",
    "else:\n",
    "    print(f\"{num1} and {num2} are equal\")"
   ]
  },
  {
   "cell_type": "markdown",
   "metadata": {},
   "source": [
    "### Nested IF"
   ]
  },
  {
   "cell_type": "code",
   "execution_count": 3,
   "metadata": {},
   "outputs": [
    {
     "name": "stdout",
     "output_type": "stream",
     "text": [
      "Zero\n"
     ]
    }
   ],
   "source": [
    "num = int(input(\"enter a number: \"))\n",
    "\n",
    "if num >= 0:\n",
    "    if num > 0:\n",
    "        print(\"Positive\")\n",
    "    else:\n",
    "        print(\"Zero\")\n",
    "else:\n",
    "    print(\"Negative\")"
   ]
  },
  {
   "cell_type": "markdown",
   "metadata": {},
   "source": [
    "### Control Flow Statements (while, do while and for loops)"
   ]
  },
  {
   "cell_type": "code",
   "execution_count": 13,
   "metadata": {},
   "outputs": [
    {
     "name": "stdout",
     "output_type": "stream",
     "text": [
      "1 2 3 4 5 "
     ]
    }
   ],
   "source": [
    "a = [1,2,3,4,5]\n",
    "index = 0\n",
    "while index < len(a):\n",
    "    print(a[index], end = ' ')\n",
    "    index += 1"
   ]
  },
  {
   "cell_type": "markdown",
   "metadata": {},
   "source": [
    "separator"
   ]
  },
  {
   "cell_type": "code",
   "execution_count": 16,
   "metadata": {},
   "outputs": [
    {
     "name": "stdout",
     "output_type": "stream",
     "text": [
      "12#13#14\n"
     ]
    }
   ],
   "source": [
    "print(12,13,14, sep='#')"
   ]
  },
  {
   "cell_type": "code",
   "execution_count": 26,
   "metadata": {},
   "outputs": [
    {
     "name": "stdout",
     "output_type": "stream",
     "text": [
      "1 2 6 24 120 No_items_left\n"
     ]
    }
   ],
   "source": [
    "a = [1,2,3,4,5]\n",
    "index = 0\n",
    "res = 1\n",
    "while index<len(a):\n",
    "    res = res * a[index]\n",
    "    print(res, end = ' ')\n",
    "    index += 1\n",
    "else:\n",
    "    print(\"No_items_left\")"
   ]
  },
  {
   "cell_type": "code",
   "execution_count": 32,
   "metadata": {},
   "outputs": [
    {
     "name": "stdout",
     "output_type": "stream",
     "text": [
      "1 2 3 4 5 \n",
      "1 2 3 4 5 "
     ]
    }
   ],
   "source": [
    "for i in a:\n",
    "    print(i, end = ' ')\n",
    "print()\n",
    "j = 0\n",
    "for j in range(len(a)):\n",
    "    print(a[j], end = ' ')"
   ]
  },
  {
   "cell_type": "markdown",
   "metadata": {},
   "source": [
    "range method techs"
   ]
  },
  {
   "cell_type": "markdown",
   "metadata": {},
   "source": [
    "range(n) => runs 0 to n-1\n",
    "range(a,n) => runs a to n-1\n",
    "range(a,n,i) => runs a to n-1, increments in the order of i"
   ]
  },
  {
   "cell_type": "code",
   "execution_count": 35,
   "metadata": {},
   "outputs": [
    {
     "name": "stdout",
     "output_type": "stream",
     "text": [
      "0 1 2 3 4 5 6 7 8 9 10 \n",
      "3 4 5 6 7 8 9 10 \n",
      "3 5 7 9 11 13 15 17 19 21 "
     ]
    }
   ],
   "source": [
    "for i in range(11):\n",
    "    print(i, end = ' ')\n",
    "print()\n",
    "for i in range(3,11):\n",
    "    print(i, end = ' ')\n",
    "print()\n",
    "for i in range(3,22,2):\n",
    "    print(i, end = ' ')"
   ]
  },
  {
   "cell_type": "markdown",
   "metadata": {},
   "source": [
    "### Break, Continue and Pass"
   ]
  },
  {
   "cell_type": "code",
   "execution_count": 2,
   "metadata": {},
   "outputs": [
    {
     "name": "stdout",
     "output_type": "stream",
     "text": [
      "0 1 2 3 4 5 "
     ]
    }
   ],
   "source": [
    "for i in range(11):\n",
    "    if i == 6:\n",
    "        break\n",
    "    print(i, end = ' ')"
   ]
  },
  {
   "cell_type": "code",
   "execution_count": 4,
   "metadata": {},
   "outputs": [
    {
     "name": "stdout",
     "output_type": "stream",
     "text": [
      "1 3 5 7 9 11 13 15 17 19 "
     ]
    }
   ],
   "source": [
    "for i in range(21):\n",
    "    if i%2 == 0:\n",
    "        continue\n",
    "    print(i, end = ' ')"
   ]
  },
  {
   "cell_type": "markdown",
   "metadata": {},
   "source": [
    "the pass keyword is used as a dummmy code for the compiler/interpreter to omit the incomplete code"
   ]
  },
  {
   "cell_type": "code",
   "execution_count": 6,
   "metadata": {},
   "outputs": [
    {
     "name": "stdout",
     "output_type": "stream",
     "text": [
      "usage of pass keyword\n",
      "code works just fine\n"
     ]
    }
   ],
   "source": [
    "print(\"usage of pass keyword\")\n",
    "for i in range(12):\n",
    "    pass\n",
    "print(\"code works just fine\")"
   ]
  },
  {
   "cell_type": "markdown",
   "metadata": {},
   "source": [
    "### Built in functions"
   ]
  },
  {
   "cell_type": "code",
   "execution_count": 7,
   "metadata": {},
   "outputs": [
    {
     "data": {
      "text/plain": [
       "78"
      ]
     },
     "execution_count": 7,
     "metadata": {},
     "output_type": "execute_result"
    }
   ],
   "source": [
    "a = [34, 65, 78, -90]\n",
    "max(a)"
   ]
  },
  {
   "cell_type": "markdown",
   "metadata": {},
   "source": [
    "### User defined functions"
   ]
  },
  {
   "cell_type": "code",
   "execution_count": 9,
   "metadata": {},
   "outputs": [],
   "source": [
    "def function():\n",
    "    print('Welcome to python class')"
   ]
  },
  {
   "cell_type": "code",
   "execution_count": 10,
   "metadata": {},
   "outputs": [
    {
     "name": "stdout",
     "output_type": "stream",
     "text": [
      "Welcome to python class\n"
     ]
    }
   ],
   "source": [
    "function()"
   ]
  },
  {
   "cell_type": "code",
   "execution_count": 19,
   "metadata": {},
   "outputs": [],
   "source": [
    "def function2(message):\n",
    "    print(message)"
   ]
  },
  {
   "cell_type": "code",
   "execution_count": 20,
   "metadata": {},
   "outputs": [
    {
     "name": "stdout",
     "output_type": "stream",
     "text": [
      "this is my message\n"
     ]
    }
   ],
   "source": [
    "function2('this is my message')"
   ]
  },
  {
   "cell_type": "code",
   "execution_count": 23,
   "metadata": {},
   "outputs": [],
   "source": [
    "def sum(a,b):\n",
    "    return a+b"
   ]
  },
  {
   "cell_type": "code",
   "execution_count": 25,
   "metadata": {},
   "outputs": [
    {
     "name": "stdout",
     "output_type": "stream",
     "text": [
      "55\n"
     ]
    }
   ],
   "source": [
    "c = sum(22,33)\n",
    "print(c)"
   ]
  },
  {
   "cell_type": "markdown",
   "metadata": {},
   "source": [
    "### Default Argument"
   ]
  },
  {
   "cell_type": "code",
   "execution_count": 29,
   "metadata": {},
   "outputs": [],
   "source": [
    "def country(a=\"India\"):\n",
    "    print(f\"I am from {a}\")"
   ]
  },
  {
   "cell_type": "code",
   "execution_count": 30,
   "metadata": {},
   "outputs": [
    {
     "name": "stdout",
     "output_type": "stream",
     "text": [
      "I am from Canada\n"
     ]
    }
   ],
   "source": [
    "country(\"Canada\")"
   ]
  },
  {
   "cell_type": "code",
   "execution_count": 31,
   "metadata": {},
   "outputs": [],
   "source": [
    "def sum(a=10,b=20):\n",
    "    print(a+b)"
   ]
  },
  {
   "cell_type": "code",
   "execution_count": 34,
   "metadata": {},
   "outputs": [
    {
     "name": "stdout",
     "output_type": "stream",
     "text": [
      "30\n"
     ]
    }
   ],
   "source": [
    "sum()"
   ]
  },
  {
   "cell_type": "code",
   "execution_count": 32,
   "metadata": {},
   "outputs": [
    {
     "name": "stdout",
     "output_type": "stream",
     "text": [
      "32\n"
     ]
    }
   ],
   "source": [
    "sum(12)"
   ]
  },
  {
   "cell_type": "code",
   "execution_count": 33,
   "metadata": {},
   "outputs": [
    {
     "name": "stdout",
     "output_type": "stream",
     "text": [
      "17\n"
     ]
    }
   ],
   "source": [
    "sum(b=7)"
   ]
  },
  {
   "cell_type": "markdown",
   "metadata": {},
   "source": [
    "the above mentioned type of arguements are known as Kwargs => keyword arguements"
   ]
  },
  {
   "cell_type": "code",
   "execution_count": 36,
   "metadata": {},
   "outputs": [],
   "source": [
    "def div(a,b):\n",
    "    print(a/b)"
   ]
  },
  {
   "cell_type": "code",
   "execution_count": 37,
   "metadata": {},
   "outputs": [
    {
     "name": "stdout",
     "output_type": "stream",
     "text": [
      "5.0\n"
     ]
    },
    {
     "ename": "TypeError",
     "evalue": "unsupported operand type(s) for +: 'NoneType' and 'int'",
     "output_type": "error",
     "traceback": [
      "\u001b[1;31m---------------------------------------------------------------------------\u001b[0m",
      "\u001b[1;31mTypeError\u001b[0m                                 Traceback (most recent call last)",
      "Cell \u001b[1;32mIn[37], line 2\u001b[0m\n\u001b[0;32m      1\u001b[0m a \u001b[38;5;241m=\u001b[39m div(\u001b[38;5;241m45\u001b[39m,\u001b[38;5;241m9\u001b[39m)\n\u001b[1;32m----> 2\u001b[0m b \u001b[38;5;241m=\u001b[39m \u001b[43ma\u001b[49m\u001b[43m \u001b[49m\u001b[38;5;241;43m+\u001b[39;49m\u001b[43m \u001b[49m\u001b[38;5;241;43m10\u001b[39;49m\n\u001b[0;32m      3\u001b[0m \u001b[38;5;28mprint\u001b[39m(b)\n",
      "\u001b[1;31mTypeError\u001b[0m: unsupported operand type(s) for +: 'NoneType' and 'int'"
     ]
    }
   ],
   "source": [
    "a = div(45,9)\n",
    "b = a + 10\n",
    "print(b)"
   ]
  },
  {
   "cell_type": "markdown",
   "metadata": {},
   "source": [
    "this is because the print function in side the div function returns a nonetype value, which cannot be added with an integer value."
   ]
  },
  {
   "cell_type": "markdown",
   "metadata": {},
   "source": [
    "to solve this, we have to use return keyword"
   ]
  },
  {
   "cell_type": "code",
   "execution_count": 39,
   "metadata": {},
   "outputs": [],
   "source": [
    "def div(a,b):\n",
    "    return a/b"
   ]
  },
  {
   "cell_type": "code",
   "execution_count": 40,
   "metadata": {},
   "outputs": [
    {
     "name": "stdout",
     "output_type": "stream",
     "text": [
      "15.0\n"
     ]
    }
   ],
   "source": [
    "a = div(45,9)\n",
    "b = a + 10\n",
    "print(b)"
   ]
  },
  {
   "cell_type": "markdown",
   "metadata": {},
   "source": [
    "# Scope of variables"
   ]
  },
  {
   "cell_type": "code",
   "execution_count": 9,
   "metadata": {},
   "outputs": [
    {
     "ename": "NameError",
     "evalue": "name 'n' is not defined",
     "output_type": "error",
     "traceback": [
      "\u001b[1;31m---------------------------------------------------------------------------\u001b[0m",
      "\u001b[1;31mNameError\u001b[0m                                 Traceback (most recent call last)",
      "Cell \u001b[1;32mIn[9], line 5\u001b[0m\n\u001b[0;32m      3\u001b[0m     n \u001b[38;5;241m=\u001b[39m \u001b[38;5;241m15\u001b[39m\n\u001b[0;32m      4\u001b[0m abc()\n\u001b[1;32m----> 5\u001b[0m \u001b[38;5;28mprint\u001b[39m(\u001b[43mn\u001b[49m)\n",
      "\u001b[1;31mNameError\u001b[0m: name 'n' is not defined"
     ]
    }
   ],
   "source": [
    "def abc():\n",
    "    m = 10\n",
    "    n = 15\n",
    "abc()\n",
    "print(n)"
   ]
  },
  {
   "cell_type": "code",
   "execution_count": 42,
   "metadata": {},
   "outputs": [
    {
     "name": "stdout",
     "output_type": "stream",
     "text": [
      "10\n",
      "15\n"
     ]
    }
   ],
   "source": [
    "def abc():\n",
    "    global m,n\n",
    "    m = 10\n",
    "    n = 15\n",
    "abc()\n",
    "print(m)\n",
    "print(n)"
   ]
  },
  {
   "cell_type": "markdown",
   "metadata": {},
   "source": [
    "### documentation string"
   ]
  },
  {
   "cell_type": "code",
   "execution_count": 5,
   "metadata": {},
   "outputs": [],
   "source": [
    "def cir_of_circle(r):\n",
    "    \"This function is about finding the circumference of the circle\"\n",
    "    PI = 3.14\n",
    "    res = 2 * PI * r\n",
    "    return round(res,2)"
   ]
  },
  {
   "cell_type": "code",
   "execution_count": 6,
   "metadata": {},
   "outputs": [
    {
     "data": {
      "text/plain": [
       "31.4"
      ]
     },
     "execution_count": 6,
     "metadata": {},
     "output_type": "execute_result"
    }
   ],
   "source": [
    "cir_of_circle(5)"
   ]
  },
  {
   "cell_type": "markdown",
   "metadata": {},
   "source": [
    "help method"
   ]
  },
  {
   "cell_type": "code",
   "execution_count": 7,
   "metadata": {},
   "outputs": [
    {
     "name": "stdout",
     "output_type": "stream",
     "text": [
      "Help on function cir_of_circle in module __main__:\n",
      "\n",
      "cir_of_circle(r)\n",
      "    This function is about finding the circumference of the circle\n",
      "\n",
      "None\n"
     ]
    }
   ],
   "source": [
    "print(help(cir_of_circle))"
   ]
  },
  {
   "cell_type": "markdown",
   "metadata": {},
   "source": [
    "__doc__ functionality"
   ]
  },
  {
   "cell_type": "code",
   "execution_count": 8,
   "metadata": {},
   "outputs": [
    {
     "data": {
      "text/plain": [
       "'This function is about finding the circumference of the circle'"
      ]
     },
     "execution_count": 8,
     "metadata": {},
     "output_type": "execute_result"
    }
   ],
   "source": [
    "cir_of_circle.__doc__"
   ]
  },
  {
   "cell_type": "code",
   "execution_count": 7,
   "metadata": {},
   "outputs": [
    {
     "name": "stdout",
     "output_type": "stream",
     "text": [
      "Help on built-in function len in module builtins:\n",
      "\n",
      "len(obj, /)\n",
      "    Return the number of items in a container.\n",
      "\n"
     ]
    }
   ],
   "source": [
    "help(len)"
   ]
  },
  {
   "cell_type": "markdown",
   "metadata": {},
   "source": [
    "types of import statements"
   ]
  },
  {
   "cell_type": "code",
   "execution_count": 8,
   "metadata": {},
   "outputs": [
    {
     "data": {
      "text/plain": [
       "3.0"
      ]
     },
     "execution_count": 8,
     "metadata": {},
     "output_type": "execute_result"
    }
   ],
   "source": [
    "from math import *\n",
    "# this imports everything in math library\n",
    "sqrt(9)"
   ]
  },
  {
   "cell_type": "code",
   "execution_count": 3,
   "metadata": {},
   "outputs": [
    {
     "data": {
      "text/plain": [
       "3.0"
      ]
     },
     "execution_count": 3,
     "metadata": {},
     "output_type": "execute_result"
    }
   ],
   "source": [
    "import math\n",
    "# we have to mention math. before using the methods in math library\n",
    "math.sqrt(9)"
   ]
  },
  {
   "cell_type": "markdown",
   "metadata": {},
   "source": [
    "a module is a file created in python to access methods and functions from other files"
   ]
  },
  {
   "cell_type": "markdown",
   "metadata": {},
   "source": [
    "# lambda functions"
   ]
  },
  {
   "cell_type": "code",
   "execution_count": 1,
   "metadata": {},
   "outputs": [],
   "source": [
    "g = lambda a,b:a+b+2"
   ]
  },
  {
   "cell_type": "code",
   "execution_count": 2,
   "metadata": {},
   "outputs": [
    {
     "data": {
      "text/plain": [
       "7"
      ]
     },
     "execution_count": 2,
     "metadata": {},
     "output_type": "execute_result"
    }
   ],
   "source": [
    "g(2,3)"
   ]
  },
  {
   "cell_type": "code",
   "execution_count": 1,
   "metadata": {},
   "outputs": [
    {
     "name": "stdout",
     "output_type": "stream",
     "text": [
      "success\n"
     ]
    }
   ],
   "source": [
    "a = \"sum\"\n",
    "if a == \"add\" or \"sum\":\n",
    "    print(\"success\")"
   ]
  },
  {
   "cell_type": "markdown",
   "metadata": {},
   "source": [
    "# OOPS - object oriented programming system"
   ]
  },
  {
   "cell_type": "markdown",
   "metadata": {},
   "source": [
    "1. class\n",
    "2. objects\n",
    "3. constructor\n",
    "4. methods\n",
    "5. abstraction\n",
    "6. inheritance and types\n",
    "7. polymorphism\n",
    "8. encapsulation"
   ]
  },
  {
   "cell_type": "code",
   "execution_count": 1,
   "metadata": {},
   "outputs": [
    {
     "name": "stdout",
     "output_type": "stream",
     "text": [
      "5\n"
     ]
    }
   ],
   "source": [
    "class MyClass:\n",
    "    x = 5\n",
    "\n",
    "p1 = MyClass()\n",
    "print(p1.x)"
   ]
  },
  {
   "cell_type": "code",
   "execution_count": 4,
   "metadata": {},
   "outputs": [
    {
     "name": "stdout",
     "output_type": "stream",
     "text": [
      "<class '__main__.MyClass'>\n"
     ]
    }
   ],
   "source": [
    "print(type(p1))"
   ]
  },
  {
   "cell_type": "markdown",
   "metadata": {},
   "source": [
    "the __init__ function => initiate => used to specify the characteristics of the class"
   ]
  },
  {
   "cell_type": "markdown",
   "metadata": {},
   "source": [
    "## Inheritance"
   ]
  },
  {
   "cell_type": "markdown",
   "metadata": {},
   "source": [
    "* parent class aka base class\n",
    "\n",
    "* child class aka derived class"
   ]
  },
  {
   "cell_type": "markdown",
   "metadata": {},
   "source": [
    "types of inheritance\n",
    "\n",
    "1. single\n",
    "2. multiple\n",
    "3. multi-level\n",
    "4. hierarchical\n",
    "5. hybrid"
   ]
  },
  {
   "cell_type": "markdown",
   "metadata": {},
   "source": [
    "single => one parent to one child\n"
   ]
  },
  {
   "cell_type": "code",
   "execution_count": 1,
   "metadata": {},
   "outputs": [],
   "source": [
    "class Parent:\n",
    "    def method1(self):\n",
    "        print(\"This is parent class\")"
   ]
  },
  {
   "cell_type": "code",
   "execution_count": 5,
   "metadata": {},
   "outputs": [],
   "source": [
    "class Child(Parent):\n",
    "    def method2(self):\n",
    "        print(\"This is child class\")"
   ]
  },
  {
   "cell_type": "code",
   "execution_count": 6,
   "metadata": {},
   "outputs": [
    {
     "name": "stdout",
     "output_type": "stream",
     "text": [
      "This is child class\n",
      "This is parent class\n"
     ]
    }
   ],
   "source": [
    "ob1 = Parent()\n",
    "ob2 = Child()\n",
    "\n",
    "ob2.method2()\n",
    "ob2.method1()"
   ]
  },
  {
   "cell_type": "markdown",
   "metadata": {},
   "source": [
    "Multiple => more than 1 parent to one child"
   ]
  },
  {
   "cell_type": "code",
   "execution_count": 7,
   "metadata": {},
   "outputs": [
    {
     "name": "stdout",
     "output_type": "stream",
     "text": [
      "This is mother class\n",
      "This is father class\n",
      "This is child class\n"
     ]
    }
   ],
   "source": [
    "class Mother:\n",
    "    def method1(self):\n",
    "        print(\"This is mother class\")\n",
    "\n",
    "class Father:\n",
    "    def method2(self):\n",
    "        print(\"This is father class\")\n",
    "\n",
    "class Child(Mother, Father):\n",
    "    def method3(self):\n",
    "        print(\"This is child class\")\n",
    "\n",
    "ob1 = Father()\n",
    "ob2 = Mother()\n",
    "ob3 = Child()\n",
    "\n",
    "ob3.method1()\n",
    "ob3.method2()\n",
    "ob3.method3()"
   ]
  },
  {
   "cell_type": "markdown",
   "metadata": {},
   "source": [
    "Multi-level => grandparent to parent to child"
   ]
  },
  {
   "cell_type": "code",
   "execution_count": 8,
   "metadata": {},
   "outputs": [
    {
     "name": "stdout",
     "output_type": "stream",
     "text": [
      "this is grandparent class\n",
      "this is parent class\n",
      "this is child class\n"
     ]
    }
   ],
   "source": [
    "class Grandparent:\n",
    "    def method1(self):\n",
    "        print(\"this is grandparent class\")\n",
    "\n",
    "class Parent(Grandparent):\n",
    "    def method2(self):\n",
    "        print(\"this is parent class\")\n",
    "\n",
    "class Child(Parent):\n",
    "    def method3(self):\n",
    "        print(\"this is child class\")\n",
    "\n",
    "ob1 = Grandparent()\n",
    "ob2 = Parent()\n",
    "ob3 = Child()\n",
    "\n",
    "ob3.method1()\n",
    "ob3.method2()\n",
    "ob3.method3()"
   ]
  },
  {
   "cell_type": "markdown",
   "metadata": {},
   "source": [
    "hierarchical => single parent with multiple children"
   ]
  },
  {
   "cell_type": "code",
   "execution_count": 9,
   "metadata": {},
   "outputs": [],
   "source": [
    "class Mother:\n",
    "    def method1(self):\n",
    "        print(\"This is mother class\")\n",
    "\n",
    "class Son:\n",
    "    def method2(self):\n",
    "        print(\"This is son class\")\n",
    "\n",
    "class Daughter:\n",
    "    def method3(self):\n",
    "        print(\"This is daughter class\")"
   ]
  },
  {
   "cell_type": "markdown",
   "metadata": {},
   "source": [
    "## abstraction\n",
    "\n",
    "hiding the behind processes of a functionality and just showing only the essential things required by the user to use the functionality"
   ]
  },
  {
   "cell_type": "markdown",
   "metadata": {},
   "source": [
    "## Polymorphism\n",
    "\n",
    "1. operator level\n",
    "2. method level"
   ]
  },
  {
   "cell_type": "markdown",
   "metadata": {},
   "source": [
    "operator level polymorphism"
   ]
  },
  {
   "cell_type": "code",
   "execution_count": 10,
   "metadata": {},
   "outputs": [
    {
     "name": "stdout",
     "output_type": "stream",
     "text": [
      "24\n",
      "1212\n"
     ]
    }
   ],
   "source": [
    "a = 12\n",
    "b = 12\n",
    "print(a+b)\n",
    "\n",
    "a = '12'\n",
    "b = '12'\n",
    "print(a+b)"
   ]
  },
  {
   "cell_type": "markdown",
   "metadata": {},
   "source": [
    "function level ppolymorphism"
   ]
  },
  {
   "cell_type": "code",
   "execution_count": 1,
   "metadata": {},
   "outputs": [
    {
     "name": "stdout",
     "output_type": "stream",
     "text": [
      "Chinese Hello\n",
      "Spanish Hello\n"
     ]
    }
   ],
   "source": [
    "class Chinese():\n",
    "    def sayHello(self):\n",
    "        print(\"Chinese Hello\")\n",
    "class Spanish():\n",
    "    def sayHello(self):\n",
    "        print(\"Spanish Hello\")\n",
    "\n",
    "def intro(a):\n",
    "    a.sayHello()\n",
    "\n",
    "jackie = Chinese()\n",
    "sergio = Spanish()\n",
    "\n",
    "intro(jackie)\n",
    "intro(sergio)"
   ]
  },
  {
   "cell_type": "markdown",
   "metadata": {},
   "source": [
    "Non primitive data types\n",
    "\n",
    "1. list\n",
    "2. set\n",
    "3. tuple\n",
    "4. dictionary"
   ]
  },
  {
   "cell_type": "markdown",
   "metadata": {},
   "source": [
    "1. List"
   ]
  },
  {
   "cell_type": "code",
   "execution_count": 2,
   "metadata": {},
   "outputs": [
    {
     "name": "stdout",
     "output_type": "stream",
     "text": [
      "['apple', 'banana', 'cherry']\n",
      "3\n"
     ]
    }
   ],
   "source": [
    "thisList = [\"apple\", \"banana\", \"cherry\"]\n",
    "print(thisList)\n",
    "print(len(thisList))"
   ]
  },
  {
   "cell_type": "markdown",
   "metadata": {},
   "source": [
    "list() constructor"
   ]
  },
  {
   "cell_type": "code",
   "execution_count": 3,
   "metadata": {},
   "outputs": [
    {
     "name": "stdout",
     "output_type": "stream",
     "text": [
      "['apple', 'banana', 'cherry']\n"
     ]
    }
   ],
   "source": [
    "thislist = list((\"apple\", \"banana\", \"cherry\"))\n",
    "print(thislist)"
   ]
  },
  {
   "cell_type": "markdown",
   "metadata": {},
   "source": [
    "negative indexing"
   ]
  },
  {
   "cell_type": "code",
   "execution_count": 5,
   "metadata": {},
   "outputs": [
    {
     "name": "stdout",
     "output_type": "stream",
     "text": [
      "cherry\n",
      "banana\n",
      "apple\n"
     ]
    }
   ],
   "source": [
    "print(thislist[-1])\n",
    "print(thislist[-2])\n",
    "print(thislist[-3])"
   ]
  },
  {
   "cell_type": "code",
   "execution_count": 12,
   "metadata": {},
   "outputs": [
    {
     "name": "stdout",
     "output_type": "stream",
     "text": [
      "['banana', 'cherry', 'orange', 'kiwi', 'melon']\n",
      "['apple', 'banana', 'cherry', 'orange']\n",
      "['cherry', 'orange', 'kiwi', 'melon', 'mango']\n",
      "['banana', 'cherry', 'orange']\n"
     ]
    }
   ],
   "source": [
    "thislist = [\"apple\", \"banana\", \"cherry\", \"orange\", \"kiwi\", \"melon\", \"mango\"]\n",
    "print(thislist[1:6]) # [a:b] => prints a to b-1 index\n",
    "print(thislist[:4]) # [:n]prints 0 to n-1\n",
    "print(thislist[2:]) # [a:] prints from a to end\n",
    "print(thislist[-6:-3]) # same as [a:b] but from the end"
   ]
  },
  {
   "cell_type": "markdown",
   "metadata": {},
   "source": [
    "[a:b] can be used to mutate the list also"
   ]
  },
  {
   "cell_type": "markdown",
   "metadata": {},
   "source": [
    "list methods\n",
    "1. insert => takes 2 parameters, first parameter is the index of the list we want to insert, 2nd parameter is the value that is to be inserted\n",
    "2. append => takes 1 parameter, the value that is to be appended to the list i.e, added to the last\n",
    "3. extext => takes another list as parameter, used to concat two different list as a same list\n",
    "4. remove => to remove an element from a list referencing the value, if value not mentioned, the last value is deleted\n",
    "5. pop => to remove an element from a list referencing the index, if index not mentioned, the last index value is deleted\n",
    "6. delete => to entirely delete the list referencing the variable name as its parameter\n",
    "7. clear => to remove all the values from the list, making the list variable clean and fresh to use from scratch with new values"
   ]
  },
  {
   "cell_type": "markdown",
   "metadata": {},
   "source": [
    "Looping through indexes\n",
    "1. using for loop (conventional technique)\n",
    "2. using while loop (create an iteration variable, loop the variable from 0 to len(defined_list) and increment after operations are done inside the while loop)"
   ]
  },
  {
   "cell_type": "markdown",
   "metadata": {},
   "source": [
    "Sorting list\n",
    "1. .sort() method can be used\n",
    "2. sort(reverse = true) => this sorts the list in descending order"
   ]
  },
  {
   "cell_type": "markdown",
   "metadata": {},
   "source": [
    "Reversing the list\n",
    "1. .reverse() methid can be used"
   ]
  },
  {
   "cell_type": "markdown",
   "metadata": {},
   "source": [
    "copying a list"
   ]
  },
  {
   "cell_type": "markdown",
   "metadata": {},
   "source": [
    "copying a list makes a duplicate of that list, but equating 2 lists makes their addresses equal so if changes is made in one list, the other is also affected"
   ]
  },
  {
   "cell_type": "code",
   "execution_count": 13,
   "metadata": {},
   "outputs": [
    {
     "name": "stdout",
     "output_type": "stream",
     "text": [
      "[1, 2, 20, 4, 5]\n",
      "[1, 2, 20, 4, 5]\n",
      "[1, 2, 3, 4, 5]\n"
     ]
    }
   ],
   "source": [
    "a = [1,2,3,4,5]\n",
    "b = a\n",
    "c = a.copy()\n",
    "b[2] = 20\n",
    "\n",
    "print(a)\n",
    "print(b)\n",
    "print(c)"
   ]
  },
  {
   "cell_type": "markdown",
   "metadata": {},
   "source": [
    "## Tuples\n",
    "\n",
    "to create a tuple with single element, we have to place a ',' to mention that the tuple has more than 1 elements, even it has only one element"
   ]
  },
  {
   "cell_type": "code",
   "execution_count": 1,
   "metadata": {},
   "outputs": [
    {
     "name": "stdout",
     "output_type": "stream",
     "text": [
      "<class 'str'>\n",
      "<class 'tuple'>\n"
     ]
    }
   ],
   "source": [
    "a = (\"apple\")\n",
    "b = (\"banana\",)\n",
    "\n",
    "print(type(a))\n",
    "print(type(b))"
   ]
  },
  {
   "cell_type": "markdown",
   "metadata": {},
   "source": [
    "Access tuple elements\n",
    "\n",
    "same as list"
   ]
  },
  {
   "cell_type": "markdown",
   "metadata": {},
   "source": [
    "change tuple values\n",
    "\n",
    "these are immutable as it is\n",
    "\n",
    "but we can change this tuple into list, change values and then change back to tuple => in this way we can change the values in a tuple"
   ]
  },
  {
   "cell_type": "code",
   "execution_count": 2,
   "metadata": {},
   "outputs": [
    {
     "name": "stdout",
     "output_type": "stream",
     "text": [
      "('apple', 'banana', 'cherry')\n",
      "['apple', 'banana', 'cherry']\n",
      "('apple', 'kiwi', 'cherry')\n"
     ]
    }
   ],
   "source": [
    "x = (\"apple\", \"banana\", \"cherry\")\n",
    "print(x)\n",
    "y = list(x)\n",
    "print(y)\n",
    "y[1] = \"kiwi\"\n",
    "x = tuple(y)\n",
    "print(x)"
   ]
  },
  {
   "cell_type": "markdown",
   "metadata": {},
   "source": [
    "deleting a tuple\n",
    "\n",
    "a particular value in a tuple cant be deleted specifically, we have to delete the entire tuple"
   ]
  },
  {
   "cell_type": "markdown",
   "metadata": {},
   "source": [
    "unpacking a tuple"
   ]
  },
  {
   "cell_type": "code",
   "execution_count": 3,
   "metadata": {},
   "outputs": [
    {
     "name": "stdout",
     "output_type": "stream",
     "text": [
      "apple\n",
      "banana\n",
      "cherry\n"
     ]
    }
   ],
   "source": [
    "fruits = (\"apple\", \"banana\", \"cherry\")\n",
    "\n",
    "(green, yellow, red) = fruits\n",
    "\n",
    "print(green)\n",
    "print(yellow)\n",
    "print(red)"
   ]
  },
  {
   "cell_type": "code",
   "execution_count": 4,
   "metadata": {},
   "outputs": [
    {
     "name": "stdout",
     "output_type": "stream",
     "text": [
      "apple\n",
      "banana\n",
      "['cherry', 'strawberry', 'raspberry']\n"
     ]
    }
   ],
   "source": [
    "fruits = (\"apple\", \"banana\", \"cherry\", \"strawberry\", \"raspberry\")\n",
    "\n",
    "(red, green, *rest) = fruits\n",
    "\n",
    "print(red)\n",
    "print(green)\n",
    "print(rest)"
   ]
  },
  {
   "cell_type": "markdown",
   "metadata": {},
   "source": [
    "Join 2 tuples"
   ]
  },
  {
   "cell_type": "code",
   "execution_count": 5,
   "metadata": {},
   "outputs": [
    {
     "name": "stdout",
     "output_type": "stream",
     "text": [
      "('a', 'b', 'c', 1, 2, 3)\n"
     ]
    }
   ],
   "source": [
    "t1 = ('a', 'b', 'c')\n",
    "t2 = (1,2,3)\n",
    "\n",
    "t3 = t1+t2\n",
    "\n",
    "print(t3)"
   ]
  },
  {
   "cell_type": "markdown",
   "metadata": {},
   "source": [
    "Accessing items in set"
   ]
  },
  {
   "cell_type": "code",
   "execution_count": 21,
   "metadata": {},
   "outputs": [
    {
     "name": "stdout",
     "output_type": "stream",
     "text": [
      "apple\n",
      "cherry\n",
      "orange\n",
      "banana\n"
     ]
    }
   ],
   "source": [
    "thisset = {\"apple\", \"banana\", \"cherry\"}\n",
    "thisset.add(\"orange\")\n",
    "for x in thisset:\n",
    "    print(x)"
   ]
  },
  {
   "cell_type": "code",
   "execution_count": 26,
   "metadata": {},
   "outputs": [
    {
     "name": "stdout",
     "output_type": "stream",
     "text": [
      "apple\n",
      "cherry\n",
      "orange\n",
      "banana\n"
     ]
    }
   ],
   "source": [
    "for x in thisset:\n",
    "    print(x)"
   ]
  },
  {
   "cell_type": "code",
   "execution_count": null,
   "metadata": {},
   "outputs": [],
   "source": []
  },
  {
   "cell_type": "markdown",
   "metadata": {},
   "source": [
    "## Dictionary"
   ]
  },
  {
   "cell_type": "markdown",
   "metadata": {},
   "source": [
    "dictionary constructor"
   ]
  },
  {
   "cell_type": "code",
   "execution_count": 31,
   "metadata": {},
   "outputs": [
    {
     "name": "stdout",
     "output_type": "stream",
     "text": [
      "{'name': 'john', 'age': '36', 'country': 'Norway'}\n"
     ]
    }
   ],
   "source": [
    "thisdict = dict(name = \"john\", age = \"36\", country = \"Norway\")\n",
    "print(thisdict)"
   ]
  },
  {
   "cell_type": "markdown",
   "metadata": {},
   "source": [
    "accessing dictionary value"
   ]
  },
  {
   "cell_type": "code",
   "execution_count": 35,
   "metadata": {},
   "outputs": [
    {
     "name": "stdout",
     "output_type": "stream",
     "text": [
      "john\n"
     ]
    }
   ],
   "source": [
    "x = thisdict[\"name\"]\n",
    "print(x)"
   ]
  },
  {
   "cell_type": "code",
   "execution_count": 37,
   "metadata": {},
   "outputs": [
    {
     "name": "stdout",
     "output_type": "stream",
     "text": [
      "Norway\n"
     ]
    }
   ],
   "source": [
    "x = thisdict.get(\"country\")\n",
    "print(x)"
   ]
  },
  {
   "cell_type": "code",
   "execution_count": null,
   "metadata": {},
   "outputs": [],
   "source": [
    "arr = [1,2,3,4,5]\n",
    "\n"
   ]
  }
 ],
 "metadata": {
  "kernelspec": {
   "display_name": "Python 3",
   "language": "python",
   "name": "python3"
  },
  "language_info": {
   "codemirror_mode": {
    "name": "ipython",
    "version": 3
   },
   "file_extension": ".py",
   "mimetype": "text/x-python",
   "name": "python",
   "nbconvert_exporter": "python",
   "pygments_lexer": "ipython3",
   "version": "3.11.9"
  }
 },
 "nbformat": 4,
 "nbformat_minor": 2
}
