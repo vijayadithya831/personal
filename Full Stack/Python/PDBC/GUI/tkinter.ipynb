{
 "cells": [
  {
   "cell_type": "markdown",
   "metadata": {},
   "source": [
    "a window is the basic thing for a gui"
   ]
  },
  {
   "cell_type": "code",
   "execution_count": 2,
   "metadata": {},
   "outputs": [],
   "source": [
    "from tkinter import *"
   ]
  },
  {
   "cell_type": "markdown",
   "metadata": {},
   "source": [
    "tk is the name of the class for creating gui using python"
   ]
  },
  {
   "cell_type": "markdown",
   "metadata": {},
   "source": [
    "window = Tk() is an object, which opens the window instantly, but if we are not using mainloop() method, the window closes once the code finishes executing"
   ]
  },
  {
   "cell_type": "code",
   "execution_count": 6,
   "metadata": {},
   "outputs": [],
   "source": [
    "window = Tk()\n",
    "\n",
    "label1 = Label(text = \"Hello, World!\")\n",
    "label1.pack(side = \"left\")\n",
    "window.mainloop()"
   ]
  },
  {
   "cell_type": "code",
   "execution_count": 23,
   "metadata": {},
   "outputs": [],
   "source": [
    "window = Tk()\n",
    "\n",
    "window.geometry(\"1280x720\")\n",
    "window.title(\"My Window\")\n",
    "\n",
    "label1 = Label(text = \"Hello, World!\")\n",
    "label1.grid(row = 0, column = 0)\n",
    "\n",
    "label1 = Label(text = \"Hello, World!\")\n",
    "label1.grid(row = 1, column = 1)\n",
    "\n",
    "window.mainloop()"
   ]
  },
  {
   "cell_type": "code",
   "execution_count": null,
   "metadata": {},
   "outputs": [],
   "source": [
    "window = Tk()\n",
    "\n",
    "window.geometry(\"1280x720\")\n",
    "window.title(\"My Window\")\n",
    "\n",
    "label1 = Label(text = \"Hello, World!\").grid(row = 0, column = 0)\n",
    "\n",
    "label1 = Label(text = \"Hello, World!\").grid(row = 1, column = 1)\n",
    "\n",
    "window.mainloop()"
   ]
  },
  {
   "cell_type": "markdown",
   "metadata": {},
   "source": [
    "creating a button"
   ]
  },
  {
   "cell_type": "code",
   "execution_count": 26,
   "metadata": {},
   "outputs": [],
   "source": [
    "window = Tk()\n",
    "\n",
    "button1 = Button(text = \"Click Me\")\n",
    "button1.pack(side = \"left\")\n",
    "\n",
    "window.mainloop()"
   ]
  },
  {
   "cell_type": "markdown",
   "metadata": {},
   "source": [
    "## padding padx and pady"
   ]
  },
  {
   "cell_type": "code",
   "execution_count": 28,
   "metadata": {},
   "outputs": [],
   "source": [
    "window = Tk()\n",
    "\n",
    "button1 = Button(text = \"Click Me\", padx = 60, pady = 30)\n",
    "button1.pack(side = \"left\")\n",
    "\n",
    "window.mainloop()"
   ]
  },
  {
   "cell_type": "markdown",
   "metadata": {},
   "source": [
    "disables button"
   ]
  },
  {
   "cell_type": "code",
   "execution_count": 29,
   "metadata": {},
   "outputs": [],
   "source": [
    "window = Tk()\n",
    "\n",
    "button1 = Button(text = \"Click Me\",state = \"disabled\", padx = 60, pady = 30)\n",
    "button1.pack(side = \"left\")\n",
    "\n",
    "window.mainloop()"
   ]
  },
  {
   "cell_type": "markdown",
   "metadata": {},
   "source": [
    "## functions for button"
   ]
  },
  {
   "cell_type": "code",
   "execution_count": 35,
   "metadata": {},
   "outputs": [],
   "source": [
    "window = Tk()\n",
    "\n",
    "def buttonClick():\n",
    "    label1 = Label(text = \"Hello\", bg = \"Grey\", fg = \"Black\", font = 30, padx = 50, pady = 30)\n",
    "    label1.pack()\n",
    "\n",
    "button1 = Button(text = \"Click Me\", bg = \"Black\", fg = \"Green\", padx = 50, pady = 30, command = buttonClick)\n",
    "button1.pack()\n",
    "\n",
    "window.mainloop()"
   ]
  },
  {
   "cell_type": "markdown",
   "metadata": {},
   "source": [
    "## creating input fields (entry box)"
   ]
  },
  {
   "cell_type": "code",
   "execution_count": 41,
   "metadata": {},
   "outputs": [],
   "source": [
    "window = Tk()\n",
    "\n",
    "e = Entry(width = 50, borderwidth = 5)\n",
    "e.pack()\n",
    "\n",
    "def buttonClick():\n",
    "    label1 = Label(text = e.get())\n",
    "    label1.pack()\n",
    "\n",
    "button1 = Button(text = \"Enter Your Name\", padx = 30, pady = 20, command = buttonClick)\n",
    "button1.pack()\n",
    "\n",
    "window.mainloop()"
   ]
  }
 ],
 "metadata": {
  "kernelspec": {
   "display_name": "Python 3",
   "language": "python",
   "name": "python3"
  },
  "language_info": {
   "codemirror_mode": {
    "name": "ipython",
    "version": 3
   },
   "file_extension": ".py",
   "mimetype": "text/x-python",
   "name": "python",
   "nbconvert_exporter": "python",
   "pygments_lexer": "ipython3",
   "version": "3.11.9"
  }
 },
 "nbformat": 4,
 "nbformat_minor": 2
}
