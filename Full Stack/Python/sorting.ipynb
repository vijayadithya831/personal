{
 "cells": [
  {
   "cell_type": "markdown",
   "metadata": {},
   "source": [
    "Selection Sorting"
   ]
  },
  {
   "cell_type": "code",
   "execution_count": null,
   "metadata": {},
   "outputs": [],
   "source": [
    "def swap(arr, i, j):\n",
    "    temp = arr[i]\n",
    "    arr[i] = arr[j]\n",
    "    arr[j] = temp\n",
    "\n",
    "def locOfSmallest(arr, s, e):\n",
    "    i = s\n",
    "    j = i\n",
    "    while i<=e:\n",
    "        if arr[i] < arr[j]:\n",
    "            j = i\n",
    "        i+=1\n",
    "    return j\n",
    "\n",
    "def selSort(arr, n):\n",
    "    i = 0\n",
    "    while i < n-1:\n",
    "        j = locOfSmallest(arr, i, n-1)\n",
    "        swap(arr, i, j)\n",
    "        i+=1\n",
    "\n",
    "arr = [102,12,193,1932,192, 11,293,39,239]\n",
    "size = len(arr)\n",
    "print(arr)\n",
    "selSort(arr, size)\n",
    "print(arr)"
   ]
  },
  {
   "cell_type": "markdown",
   "metadata": {},
   "source": [
    "Bubble Sorting"
   ]
  },
  {
   "cell_type": "code",
   "execution_count": 1,
   "metadata": {},
   "outputs": [
    {
     "name": "stdout",
     "output_type": "stream",
     "text": [
      "[102, 293, 1939, 1832, 11, 38, 344, 95434]\n",
      "[11, 38, 102, 293, 344, 1832, 1939, 95434]\n"
     ]
    }
   ],
   "source": [
    "def swap(arr, i, j):\n",
    "    temp = arr[i]\n",
    "    arr[i] = arr[j]\n",
    "    arr[j] = temp\n",
    "\n",
    "def bubble(arr, n):\n",
    "    i = n-1\n",
    "    while i > 0:\n",
    "        if arr[i] < arr[i-1]:\n",
    "            swap(arr, i, i-1)\n",
    "        i-=1\n",
    "\n",
    "def bblSort(arr, n):\n",
    "    i = 0\n",
    "    while i<n-1:\n",
    "        bubble(arr, n)\n",
    "        i+=1\n",
    "\n",
    "arr = [102, 293, 1939, 1832, 11, 38, 344, 95434]\n",
    "n = len(arr)\n",
    "\n",
    "print(arr)\n",
    "bblSort(arr,n)\n",
    "print(arr)"
   ]
  },
  {
   "cell_type": "markdown",
   "metadata": {},
   "source": [
    "Insertion Sorting"
   ]
  },
  {
   "cell_type": "code",
   "execution_count": 2,
   "metadata": {},
   "outputs": [
    {
     "name": "stdout",
     "output_type": "stream",
     "text": [
      "[102, 12, 193, 1932, 192, 11, 293, 39, 239]\n",
      "[11, 12, 39, 102, 192, 193, 239, 293, 1932]\n"
     ]
    }
   ],
   "source": [
    "def insSort(arr, n):\n",
    "    i=1\n",
    "    while i<n:\n",
    "        insertIth(arr, n, i)\n",
    "        i+=1\n",
    "\n",
    "def insertIth(arr, n, i):\n",
    "    key = arr[i]\n",
    "    j = i-1\n",
    "    while j>=0 and arr[j]>key:\n",
    "        arr[j+1] = arr[j]\n",
    "        j-=1\n",
    "    arr[j+1] = key\n",
    "\n",
    "\n",
    "arr = [102,12,193,1932,192, 11,293,39,239]\n",
    "size = len(arr)\n",
    "print(arr)\n",
    "insSort(arr, size)\n",
    "print(arr)"
   ]
  }
 ],
 "metadata": {
  "kernelspec": {
   "display_name": "Python 3",
   "language": "python",
   "name": "python3"
  },
  "language_info": {
   "codemirror_mode": {
    "name": "ipython",
    "version": 3
   },
   "file_extension": ".py",
   "mimetype": "text/x-python",
   "name": "python",
   "nbconvert_exporter": "python",
   "pygments_lexer": "ipython3",
   "version": "3.11.9"
  }
 },
 "nbformat": 4,
 "nbformat_minor": 2
}
