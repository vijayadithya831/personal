{
 "cells": [
  {
   "cell_type": "markdown",
   "metadata": {},
   "source": [
    "Selection Sorting"
   ]
  },
  {
   "cell_type": "code",
   "execution_count": 1,
   "metadata": {},
   "outputs": [
    {
     "name": "stdout",
     "output_type": "stream",
     "text": [
      "[102, 12, 193, 1932, 192, 11, 293, 39, 239]\n",
      "[11, 12, 39, 102, 192, 193, 239, 293, 1932]\n"
     ]
    }
   ],
   "source": [
    "def swap(arr, i, j):\n",
    "    temp = arr[i]\n",
    "    arr[i] = arr[j]\n",
    "    arr[j] = temp\n",
    "\n",
    "def locOfSmallest(arr, s, e):\n",
    "    i = s\n",
    "    j = i\n",
    "    while i<=e:\n",
    "        if arr[i] < arr[j]:\n",
    "            j = i\n",
    "        i+=1\n",
    "    return j\n",
    "\n",
    "def selSort(arr, n):\n",
    "    i = 0\n",
    "    while i < n-1:\n",
    "        j = locOfSmallest(arr, i, n-1)\n",
    "        swap(arr, i, j)\n",
    "        i+=1\n",
    "\n",
    "arr = [102,12,193,1932,192, 11,293,39,239]\n",
    "size = len(arr)\n",
    "print(arr)\n",
    "selSort(arr, size)\n",
    "print(arr)"
   ]
  },
  {
   "cell_type": "code",
   "execution_count": 3,
   "metadata": {},
   "outputs": [
    {
     "name": "stdout",
     "output_type": "stream",
     "text": [
      "The array after sorting in Ascending Order by selection sort is:\n",
      "[-202, -97, -9, -2, 0, 11, 45, 88, 747]\n"
     ]
    }
   ],
   "source": [
    "def selectionSort(arr, size):\n",
    "    for ind in range(size):\n",
    "        min_index = ind\n",
    "        for j in range(ind+1, size):\n",
    "            if arr[j] < arr[min_index]:\n",
    "                min_index = j\n",
    "        (arr[ind],arr[min_index]) = (arr[min_index],arr[ind])\n",
    "arr = [-2, 45, 0, 11, -9,88,-97,-202,747]\n",
    "size = len(arr)\n",
    "selectionSort(arr, size)\n",
    "print('The array after sorting in Ascending Order by selection sort is:')\n",
    "print(arr)"
   ]
  },
  {
   "cell_type": "markdown",
   "metadata": {},
   "source": [
    "Bubble Sorting"
   ]
  },
  {
   "cell_type": "code",
   "execution_count": 1,
   "metadata": {},
   "outputs": [
    {
     "name": "stdout",
     "output_type": "stream",
     "text": [
      "[102, 293, 1939, 1832, 11, 38, 344, 95434]\n",
      "[11, 38, 102, 293, 344, 1832, 1939, 95434]\n"
     ]
    }
   ],
   "source": [
    "def swap(arr, i, j):\n",
    "    temp = arr[i]\n",
    "    arr[i] = arr[j]\n",
    "    arr[j] = temp\n",
    "\n",
    "def bubble(arr, n):\n",
    "    i = n-1\n",
    "    while i > 0:\n",
    "        if arr[i] < arr[i-1]:\n",
    "            swap(arr, i, i-1)\n",
    "        i-=1\n",
    "\n",
    "def bblSort(arr, n):\n",
    "    i = 0\n",
    "    while i<n-1:\n",
    "        bubble(arr, n)\n",
    "        i+=1\n",
    "\n",
    "arr = [102, 293, 1939, 1832, 11, 38, 344, 95434]\n",
    "n = len(arr)\n",
    "\n",
    "print(arr)\n",
    "bblSort(arr,n)\n",
    "print(arr)"
   ]
  },
  {
   "cell_type": "code",
   "execution_count": 5,
   "metadata": {},
   "outputs": [
    {
     "name": "stdout",
     "output_type": "stream",
     "text": [
      "[11, 12, 22, 25, 34, 64, 90]\n"
     ]
    }
   ],
   "source": [
    "def bubbleSort(arr, n):\n",
    "    for i in range(n-1):\n",
    "        swapped = False\n",
    "        for j in range(0, n-i-1):\n",
    "            if arr[j] > arr[j+1]:\n",
    "                swapped = True\n",
    "                arr[j], arr[j+1] = arr[j+1], arr[j]\n",
    "        if not swapped:\n",
    "            return\n",
    "arr = [64, 34, 25, 12, 22, 11, 90]\n",
    "n = len(arr)\n",
    "bubbleSort(arr, n)\n",
    "\n",
    "print(arr)"
   ]
  },
  {
   "cell_type": "markdown",
   "metadata": {},
   "source": [
    "Insertion Sorting"
   ]
  },
  {
   "cell_type": "code",
   "execution_count": 2,
   "metadata": {},
   "outputs": [
    {
     "name": "stdout",
     "output_type": "stream",
     "text": [
      "[102, 12, 193, 1932, 192, 11, 293, 39, 239]\n",
      "[11, 12, 39, 102, 192, 193, 239, 293, 1932]\n"
     ]
    }
   ],
   "source": [
    "def insSort(arr, n):\n",
    "    i=1\n",
    "    while i<n:\n",
    "        insertIth(arr, n, i)\n",
    "        i+=1\n",
    "\n",
    "def insertIth(arr, n, i):\n",
    "    key = arr[i]\n",
    "    j = i-1\n",
    "    while j>=0 and arr[j]>key:\n",
    "        arr[j+1] = arr[j]\n",
    "        j-=1\n",
    "    arr[j+1] = key\n",
    "\n",
    "\n",
    "arr = [102,12,193,1932,192, 11,293,39,239]\n",
    "size = len(arr)\n",
    "print(arr)\n",
    "insSort(arr, size)\n",
    "print(arr)"
   ]
  },
  {
   "cell_type": "code",
   "execution_count": null,
   "metadata": {},
   "outputs": [],
   "source": [
    "def insertionSort(arr):\n",
    "    n = len(arr)  # Get the length of the array\n",
    "      \n",
    "    if n <= 1:\n",
    "        return  # If the array has 0 or 1 element, it is already sorted, so return\n",
    " \n",
    "    for i in range(1, n):  # Iterate over the array starting from the second element\n",
    "        key = arr[i]  # Store the current element as the key to be inserted in the right position\n",
    "        j = i-1\n",
    "        while j >= 0 and key < arr[j]:  # Move elements greater than key one position ahead\n",
    "            arr[j+1] = arr[j]  # Shift elements to the right\n",
    "            j -= 1\n",
    "        arr[j+1] = key  # Insert the key in the correct position\n",
    "  \n",
    "# Sorting the array [12, 11, 13, 5, 6] using insertionSort\n",
    "arr = [12, 11, 13, 5, 6]\n",
    "insertionSort(arr)\n",
    "print(arr)"
   ]
  },
  {
   "cell_type": "markdown",
   "metadata": {},
   "source": [
    "linked list based problems\n",
    "1. reversal of linked list\n",
    "2. take from leetcode\n",
    "\n",
    "sorting algorithms => see python code, (above is java implementation)\n",
    "\n",
    "time and space complexity\n",
    "\n"
   ]
  },
  {
   "cell_type": "markdown",
   "metadata": {},
   "source": [
    "linked list implementation in python"
   ]
  },
  {
   "cell_type": "code",
   "execution_count": 6,
   "metadata": {},
   "outputs": [],
   "source": [
    "class Node:\n",
    "    def __init__(self,data):\n",
    "        self.data = data\n",
    "        self.next = None"
   ]
  },
  {
   "cell_type": "code",
   "execution_count": 7,
   "metadata": {},
   "outputs": [],
   "source": [
    "def insertAtBegin(self,data):\n",
    "    new_node = Node(data)\n",
    "    if self.head is None:\n",
    "        self.head = new_node\n",
    "    else:\n",
    "        new_node.next = self.head\n",
    "        self.head = new_node"
   ]
  },
  {
   "cell_type": "code",
   "execution_count": 8,
   "metadata": {},
   "outputs": [],
   "source": [
    "def insertAtEnd(self,data):\n",
    "    new_node = node(data)\n",
    "    if self.head is None:\n",
    "        self.head = new_node\n",
    "        return\n",
    "    current_node = self.head\n",
    "    while current_node.next:\n",
    "        current_node = current_node.next\n",
    "    current_node.next = new_node"
   ]
  },
  {
   "cell_type": "code",
   "execution_count": 9,
   "metadata": {},
   "outputs": [],
   "source": [
    "def insertAtIndex(self, data, index):\n",
    "    new_node = Node(data)\n",
    "    current_node = self.head\n",
    "    pos = 0\n",
    "    if pos == index:\n",
    "        self.insertAtBegin(data)\n",
    "    else:\n",
    "        while (current_node != None and pos+1 != index):\n",
    "            pos += 1\n",
    "            current_node = current_node.next\n",
    "        if current_node != None:\n",
    "            new_node.next = current_node.next\n",
    "            current_node.next = new_node\n",
    "        else:\n",
    "            print(\"Index not present\")"
   ]
  },
  {
   "cell_type": "code",
   "execution_count": null,
   "metadata": {},
   "outputs": [],
   "source": [
    "\n",
    "def printLL(self):\n",
    "    current_node = self.head\n",
    "    while(current_node):\n",
    "        print(current_node.data)\n",
    "        current_node = current_node.next"
   ]
  }
 ],
 "metadata": {
  "kernelspec": {
   "display_name": "Python 3",
   "language": "python",
   "name": "python3"
  },
  "language_info": {
   "codemirror_mode": {
    "name": "ipython",
    "version": 3
   },
   "file_extension": ".py",
   "mimetype": "text/x-python",
   "name": "python",
   "nbconvert_exporter": "python",
   "pygments_lexer": "ipython3",
   "version": "3.11.9"
  }
 },
 "nbformat": 4,
 "nbformat_minor": 2
}
