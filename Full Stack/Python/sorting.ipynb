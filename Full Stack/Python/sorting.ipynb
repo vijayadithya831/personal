{
 "cells": [
  {
   "cell_type": "markdown",
   "metadata": {},
   "source": [
    "Selection Sorting"
   ]
  },
  {
   "cell_type": "code",
   "execution_count": null,
   "metadata": {},
   "outputs": [],
   "source": [
    "def swap(arr, i, j):\n",
    "    temp = arr[i]\n",
    "    arr[i] = arr[j]\n",
    "    arr[j] = temp\n",
    "\n",
    "def locOfSmallest(arr, s, e):\n",
    "    i = s\n",
    "    j = i\n",
    "    while i<=e:\n",
    "        if arr[i] < arr[j]:\n",
    "            j = i\n",
    "        i+=1\n",
    "    return j\n",
    "\n",
    "def selSort(arr, n):\n",
    "    i = 0\n",
    "    while i < n-1:\n",
    "        j = locOfSmallest(arr, i, n-1)\n",
    "        swap(arr, i, j)\n",
    "        i+=1\n",
    "\n",
    "arr = [102,12,193,1932,192, 11,293,39,239]\n",
    "size = len(arr)\n",
    "print(arr)\n",
    "selSort(arr, size)\n",
    "print(arr)"
   ]
  },
  {
   "cell_type": "markdown",
   "metadata": {},
   "source": []
  }
 ],
 "metadata": {
  "language_info": {
   "name": "python"
  }
 },
 "nbformat": 4,
 "nbformat_minor": 2
}
