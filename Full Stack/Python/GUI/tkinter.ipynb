{
 "cells": [
  {
   "cell_type": "markdown",
   "metadata": {},
   "source": [
    "a window is the basic thing for a gui"
   ]
  },
  {
   "cell_type": "code",
   "execution_count": 2,
   "metadata": {},
   "outputs": [],
   "source": [
    "from tkinter import *"
   ]
  },
  {
   "cell_type": "markdown",
   "metadata": {},
   "source": [
    "tk is the name of the class for creating gui using python"
   ]
  },
  {
   "cell_type": "markdown",
   "metadata": {},
   "source": [
    "window = Tk() is an object, which opens the window instantly, but if we are not using mainloop() method, the window closes once the code finishes executing"
   ]
  },
  {
   "cell_type": "code",
   "execution_count": 6,
   "metadata": {},
   "outputs": [],
   "source": [
    "window = Tk()\n",
    "\n",
    "label1 = Label(text = \"Hello, World!\")\n",
    "label1.pack(side = \"left\")\n",
    "window.mainloop()"
   ]
  },
  {
   "cell_type": "code",
   "execution_count": 23,
   "metadata": {},
   "outputs": [],
   "source": [
    "window = Tk()\n",
    "\n",
    "window.geometry(\"1280x720\")\n",
    "window.title(\"My Window\")\n",
    "\n",
    "label1 = Label(text = \"Hello, World!\")\n",
    "label1.grid(row = 0, column = 0)\n",
    "\n",
    "label1 = Label(text = \"Hello, World!\")\n",
    "label1.grid(row = 1, column = 1)\n",
    "\n",
    "window.mainloop()"
   ]
  },
  {
   "cell_type": "code",
   "execution_count": null,
   "metadata": {},
   "outputs": [],
   "source": [
    "window = Tk()\n",
    "\n",
    "window.geometry(\"1280x720\")\n",
    "window.title(\"My Window\")\n",
    "\n",
    "label1 = Label(text = \"Hello, World!\").grid(row = 0, column = 0)\n",
    "\n",
    "label1 = Label(text = \"Hello, World!\").grid(row = 1, column = 1)\n",
    "\n",
    "window.mainloop()"
   ]
  },
  {
   "cell_type": "markdown",
   "metadata": {},
   "source": [
    "creating a button"
   ]
  },
  {
   "cell_type": "code",
   "execution_count": 26,
   "metadata": {},
   "outputs": [],
   "source": [
    "window = Tk()\n",
    "\n",
    "button1 = Button(text = \"Click Me\")\n",
    "button1.pack(side = \"left\")\n",
    "\n",
    "window.mainloop()"
   ]
  },
  {
   "cell_type": "markdown",
   "metadata": {},
   "source": [
    "## padding padx and pady"
   ]
  },
  {
   "cell_type": "code",
   "execution_count": 28,
   "metadata": {},
   "outputs": [],
   "source": [
    "window = Tk()\n",
    "\n",
    "button1 = Button(text = \"Click Me\", padx = 60, pady = 30)\n",
    "button1.pack(side = \"left\")\n",
    "\n",
    "window.mainloop()"
   ]
  },
  {
   "cell_type": "markdown",
   "metadata": {},
   "source": [
    "disables button"
   ]
  },
  {
   "cell_type": "code",
   "execution_count": 29,
   "metadata": {},
   "outputs": [],
   "source": [
    "window = Tk()\n",
    "\n",
    "button1 = Button(text = \"Click Me\",state = \"disabled\", padx = 60, pady = 30)\n",
    "button1.pack(side = \"left\")\n",
    "\n",
    "window.mainloop()"
   ]
  },
  {
   "cell_type": "markdown",
   "metadata": {},
   "source": [
    "## functions for button"
   ]
  },
  {
   "cell_type": "code",
   "execution_count": 35,
   "metadata": {},
   "outputs": [],
   "source": [
    "window = Tk()\n",
    "\n",
    "def buttonClick():\n",
    "    label1 = Label(text = \"Hello\", bg = \"Grey\", fg = \"Black\", font = 30, padx = 50, pady = 30)\n",
    "    label1.pack()\n",
    "\n",
    "button1 = Button(text = \"Click Me\", bg = \"Black\", fg = \"Green\", padx = 50, pady = 30, command = buttonClick)\n",
    "button1.pack()\n",
    "\n",
    "window.mainloop()"
   ]
  },
  {
   "cell_type": "markdown",
   "metadata": {},
   "source": [
    "## creating input fields (entry box)"
   ]
  },
  {
   "cell_type": "code",
   "execution_count": 41,
   "metadata": {},
   "outputs": [],
   "source": [
    "window = Tk()\n",
    "\n",
    "e = Entry(width = 50, borderwidth = 5)\n",
    "e.pack()\n",
    "\n",
    "def buttonClick():\n",
    "    label1 = Label(text = e.get())\n",
    "    label1.pack()\n",
    "\n",
    "button1 = Button(text = \"Enter Your Name\", padx = 30, pady = 20, command = buttonClick)\n",
    "button1.pack()\n",
    "\n",
    "window.mainloop()"
   ]
  },
  {
   "cell_type": "markdown",
   "metadata": {},
   "source": [
    "# Simple Calculator"
   ]
  },
  {
   "cell_type": "code",
   "execution_count": 42,
   "metadata": {},
   "outputs": [],
   "source": [
    "from tk import *"
   ]
  },
  {
   "cell_type": "code",
   "execution_count": null,
   "metadata": {},
   "outputs": [],
   "source": [
    "window = Tk()\n",
    "\n",
    "window.iconbitmap()\n",
    "\n",
    "window.mainloop()"
   ]
  },
  {
   "cell_type": "markdown",
   "metadata": {},
   "source": [
    "Simple calculator"
   ]
  },
  {
   "cell_type": "code",
   "execution_count": 6,
   "metadata": {},
   "outputs": [],
   "source": [
    "from tkinter import *\n",
    "\n",
    "window = Tk()\n",
    "\n",
    "window.title(\"Simple Calculator\")\n",
    "window.iconbitmap(\"D:/Personal/Full Stack/Python/GUI/calculator.ico\")\n",
    "\n",
    "entry = Entry(width=25, borderwidth=5, font=(\"Times New Roman\", 20), justify=CENTER)\n",
    "entry.grid(row=0, column=0, columnspan=4)\n",
    "\n",
    "def btnClick(number):\n",
    "    current = entry.get()\n",
    "    entry.delete(0, END)\n",
    "    entry.insert(0, str(current) + str(number))\n",
    "\n",
    "def btnAdd():\n",
    "    global fnum, math\n",
    "    math = 1\n",
    "    first_number = entry.get()\n",
    "    entry.delete(0, END)\n",
    "    fnum = float(first_number)\n",
    "\n",
    "def btnSub():\n",
    "    global fnum, math\n",
    "    math = 2\n",
    "    first_number = entry.get()\n",
    "    entry.delete(0, END)\n",
    "    fnum = float(first_number)\n",
    "\n",
    "def btnMul():\n",
    "    global fnum, math\n",
    "    math = 3\n",
    "    first_number = entry.get()\n",
    "    entry.delete(0, END)\n",
    "    fnum = float(first_number)\n",
    "\n",
    "def btnDiv():\n",
    "    global fnum, math\n",
    "    math = 4\n",
    "    first_number = entry.get()\n",
    "    entry.delete(0, END)\n",
    "    fnum = float(first_number)\n",
    "\n",
    "def btnEqual():\n",
    "    second_number = entry.get()\n",
    "    entry.delete(0, END)\n",
    "    snum = float(second_number)\n",
    "\n",
    "    if math == 1:\n",
    "        entry.insert(0, fnum + snum)\n",
    "    elif math == 2:\n",
    "        entry.insert(0, fnum - snum)\n",
    "    elif math == 3:\n",
    "        entry.insert(0, fnum * snum)\n",
    "    elif math == 4:\n",
    "        entry.insert(0, fnum / snum)\n",
    "\n",
    "def btnClr():\n",
    "    entry.delete(0, END)\n",
    "\n",
    "btn1 = Button(text=\"1\", padx=35, pady=30, command=lambda: btnClick(1))\n",
    "btn1.grid(row=1, column=0)\n",
    "btn2 = Button(text=\"2\", padx=35, pady=30, command=lambda: btnClick(2))\n",
    "btn2.grid(row=1, column=1)\n",
    "btn3 = Button(text=\"3\", padx=35, pady=30, command=lambda: btnClick(3))\n",
    "btn3.grid(row=1, column=2)\n",
    "\n",
    "btn4 = Button(text=\"4\", padx=35, pady=30, command=lambda: btnClick(4))\n",
    "btn4.grid(row=2, column=0)\n",
    "btn5 = Button(text=\"5\", padx=35, pady=30, command=lambda: btnClick(5))\n",
    "btn5.grid(row=2, column=1)\n",
    "btn6 = Button(text=\"6\", padx=35, pady=30, command=lambda: btnClick(6))\n",
    "btn6.grid(row=2, column=2)\n",
    "\n",
    "btn7 = Button(text=\"7\", padx=35, pady=30, command=lambda: btnClick(7))\n",
    "btn7.grid(row=3, column=0)\n",
    "btn8 = Button(text=\"8\", padx=35, pady=30, command=lambda: btnClick(8))\n",
    "btn8.grid(row=3, column=1)\n",
    "btn9 = Button(text=\"9\", padx=35, pady=30, command=lambda: btnClick(9))\n",
    "btn9.grid(row=3, column=2)\n",
    "\n",
    "btn0 = Button(text=\"0\", padx=35, pady=30, command=lambda: btnClick(0))\n",
    "btn0.grid(row=4, column=0)\n",
    "\n",
    "btnClear = Button(text=\"Clear\", padx=30, pady=30, command=btnClr)\n",
    "btnClear.grid(row=1, column=3)\n",
    "btnPlus = Button(text=\"+\", padx=35, pady=30, command=btnAdd)\n",
    "btnPlus.grid(row=2, column=3)\n",
    "btnMinus = Button(text=\"-\", padx=35, pady=30, command=btnSub)\n",
    "btnMinus.grid(row=3, column=3)\n",
    "btnStar = Button(text=\"*\", padx=35, pady=30, command=btnMul)\n",
    "btnStar.grid(row=4, column=3)\n",
    "btnSlash = Button(text=\"/\", padx=35, pady=30, command=btnDiv)\n",
    "btnSlash.grid(row=4, column=2)\n",
    "btnPoint = Button(text=\".\", padx=35, pady=30, command=lambda: btnClick(\".\"))\n",
    "btnPoint.grid(row=4, column=1)\n",
    "btnEql = Button(text=\"=\", width=50, padx=30, pady=30, command=btnEqual)\n",
    "btnEql.grid(row=5, columnspan=4)\n",
    "\n",
    "window.mainloop()"
   ]
  }
 ],
 "metadata": {
  "kernelspec": {
   "display_name": "Python 3",
   "language": "python",
   "name": "python3"
  },
  "language_info": {
   "codemirror_mode": {
    "name": "ipython",
    "version": 3
   },
   "file_extension": ".py",
   "mimetype": "text/x-python",
   "name": "python",
   "nbconvert_exporter": "python",
   "pygments_lexer": "ipython3",
   "version": "3.11.9"
  }
 },
 "nbformat": 4,
 "nbformat_minor": 2
}
